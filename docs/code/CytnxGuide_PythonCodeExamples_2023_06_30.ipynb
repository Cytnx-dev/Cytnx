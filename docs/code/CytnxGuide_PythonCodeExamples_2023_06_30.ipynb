{
 "cells": [
  {
   "cell_type": "markdown",
   "id": "778b8b66",
   "metadata": {},
   "source": [
    "This notebook contains all the code examples of the Cytnx user guide.\n",
    "\n",
    "date: 2023-06-30\n",
    "\n",
    "commit of userguide on gitlab: 34ed2b78875e77ecb595d55b176f1f55c9d7be40\n",
    "\n",
    "All code of the user guide was checked, up to examples.\n",
    "\n",
    "Everyhting works with Cytnx v0.9.1 as expected. Only relabel(s)_() does not exist yet, will be introduced in the next version. So far, setlabel(s)() still has to be used."
   ]
  },
  {
   "cell_type": "markdown",
   "id": "6d2d4e05",
   "metadata": {},
   "source": [
    "Cyntx needs to be imported. This needs to be executed for all the examples! Besides this, the examples in the chapters should run independently"
   ]
  },
  {
   "cell_type": "code",
   "execution_count": null,
   "id": "df78aed3",
   "metadata": {},
   "outputs": [],
   "source": [
    "import cytnx"
   ]
  },
  {
   "cell_type": "markdown",
   "id": "0ca928af",
   "metadata": {},
   "source": [
    "Install & Usage of Cytnx"
   ]
  },
  {
   "cell_type": "code",
   "execution_count": null,
   "id": "629c261c",
   "metadata": {},
   "outputs": [],
   "source": [
    "A = cytnx.ones(4)\n",
    "print(A)"
   ]
  },
  {
   "cell_type": "markdown",
   "id": "7db62610",
   "metadata": {},
   "source": [
    "Function Naming convention"
   ]
  },
  {
   "cell_type": "code",
   "execution_count": null,
   "id": "89d9a573",
   "metadata": {},
   "outputs": [],
   "source": [
    "cytnx.linalg.Svd(A)\n",
    "cytnx.linalg.Qr(A)\n",
    "cytnx.linalg.Sum(A)\n",
    "\n",
    "cytnx.Contract(A,B)"
   ]
  },
  {
   "cell_type": "code",
   "execution_count": null,
   "id": "1dfb0d81",
   "metadata": {},
   "outputs": [],
   "source": [
    "A = cytnx.zeros([2,3,4])\n",
    "\n",
    "A.permute(0,2,1)\n",
    "B = A.contiguous()"
   ]
  },
  {
   "cell_type": "code",
   "execution_count": null,
   "id": "f6c277f9",
   "metadata": {},
   "outputs": [],
   "source": [
    "A = cytnx.Tensor()\n",
    "B = cytnx.Bond()\n",
    "C = cytnx.Network()\n",
    "C = cytnx.UniTensor()"
   ]
  },
  {
   "cell_type": "code",
   "execution_count": null,
   "id": "d2b81e6c",
   "metadata": {},
   "outputs": [],
   "source": [
    "A = cytnx.zeros([2,3,4])\n",
    "\n",
    "A.contiguous_() # A gets changed\n",
    "B = A.contiguous() # A is not changed, but return a copy B (see Tensor for further info)\n",
    "\n",
    "A.permute_(0,2,1) # A gets changed\n",
    "C = A.permute(0,2,1) # A is not changed but return a new B as A's permute"
   ]
  },
  {
   "cell_type": "markdown",
   "id": "b81caf93",
   "metadata": {},
   "source": [
    "1. Objects behavior"
   ]
  },
  {
   "cell_type": "code",
   "execution_count": null,
   "id": "6bebe8fe",
   "metadata": {},
   "outputs": [],
   "source": [
    "A = cytnx.Tensor([2,3])\n",
    "\n",
    "B = A\n",
    "\n",
    "\n",
    "print(B is A) # true"
   ]
  },
  {
   "cell_type": "code",
   "execution_count": null,
   "id": "4926af3b",
   "metadata": {},
   "outputs": [],
   "source": [
    "A = cytnx.Tensor([2,3]);\n",
    "\n",
    "B = A;\n",
    "\n",
    "C = A.clone();\n",
    "\n",
    "\n",
    "print(B is A)\n",
    "\n",
    "print(C is A)"
   ]
  },
  {
   "cell_type": "markdown",
   "id": "c913df96",
   "metadata": {},
   "source": [
    "2. Device"
   ]
  },
  {
   "cell_type": "code",
   "execution_count": null,
   "id": "9f8c149e",
   "metadata": {},
   "outputs": [],
   "source": [
    "print(cytnx.Device.Ncpus)"
   ]
  },
  {
   "cell_type": "code",
   "execution_count": null,
   "id": "0e87ef02",
   "metadata": {},
   "outputs": [],
   "source": [
    "cytnx.Device.Print_Property();"
   ]
  },
  {
   "cell_type": "markdown",
   "id": "ed7624bd",
   "metadata": {},
   "source": [
    "3. Tensor"
   ]
  },
  {
   "cell_type": "markdown",
   "id": "84256585",
   "metadata": {},
   "source": [
    "3.1. Creating a Tensor"
   ]
  },
  {
   "cell_type": "code",
   "execution_count": null,
   "id": "ac742845",
   "metadata": {},
   "outputs": [],
   "source": [
    "A = cytnx.zeros([3,4,5]);"
   ]
  },
  {
   "cell_type": "code",
   "execution_count": null,
   "id": "c1446bd8",
   "metadata": {},
   "outputs": [],
   "source": [
    "A = cytnx.arange(10);     #rank-1 Tensor from [0,10) with step 1\n",
    "\n",
    "B = cytnx.arange(0,10,2); #rank-1 Tensor from [0,10) with step 2\n",
    "\n",
    "C = cytnx.ones([3,4,5]);  #Tensor of shape (3,4,5) with all elements set to one.\n",
    "\n",
    "D = cytnx.eye(3);         #Tensor of shape (3,3) with diagonal elements set to one, all other entries are zero."
   ]
  },
  {
   "cell_type": "code",
   "execution_count": null,
   "id": "cfab0e3e",
   "metadata": {},
   "outputs": [],
   "source": [
    "A = cytnx.random.normal([3,4,5], mean=0., std=1.)   #Tensor of shape (3,4,5) with all elements distributed according\n",
    "\n",
    "                                                    #to a normal distribution around 0 with standard deviation 1\n",
    "\n",
    "B = cytnx.random.uniform([3,4,5], low=-1., high=1.) #Tensor of shape (3,4,5) with all elements distributed uniformly\n",
    "\n",
    "                                                    #between -1 and 1\n"
   ]
  },
  {
   "cell_type": "code",
   "execution_count": null,
   "id": "60e675a6",
   "metadata": {},
   "outputs": [],
   "source": [
    "A = cytnx.zeros([3,4,5],dtype=cytnx.Type.Int64,device=cytnx.Device.cuda)"
   ]
  },
  {
   "cell_type": "code",
   "execution_count": null,
   "id": "cbd299ee",
   "metadata": {},
   "outputs": [],
   "source": [
    "A = cytnx.ones([3,4],dtype=cytnx.Type.Int64)\n",
    "\n",
    "B = A.astype(cytnx.Type.Double)\n",
    "\n",
    "print(A.dtype_str())\n",
    "\n",
    "print(B.dtype_str())"
   ]
  },
  {
   "cell_type": "code",
   "execution_count": null,
   "id": "6413a82c",
   "metadata": {},
   "outputs": [],
   "source": [
    "A = cytnx.ones([2,2]) #on CPU\n",
    "\n",
    "B = A.to(cytnx.Device.cuda+0)\n",
    "\n",
    "print(A) # on CPU\n",
    "\n",
    "print(B) # on GPU\n",
    "\n",
    "\n",
    "A.to_(cytnx.Device.cuda)\n",
    "\n",
    "print(A) # on GPU"
   ]
  },
  {
   "cell_type": "code",
   "execution_count": null,
   "id": "f461d45c",
   "metadata": {},
   "outputs": [],
   "source": [
    "## A & B share same memory\n",
    "\n",
    "A = cytnx.Storage(10);\n",
    "\n",
    "B = cytnx.Tensor.from_storage(A);\n",
    "\n",
    "\n",
    "## A & C have different memory\n",
    "\n",
    "C = cytnx.Tensor.from_storage(A.clone());"
   ]
  },
  {
   "cell_type": "markdown",
   "id": "5b56c75c",
   "metadata": {},
   "source": [
    "3.2. Manipulating Tensors"
   ]
  },
  {
   "cell_type": "code",
   "execution_count": null,
   "id": "df8cca67",
   "metadata": {},
   "outputs": [],
   "source": [
    "A = cytnx.arange(24)\n",
    "\n",
    "B = A.reshape(2,3,4)\n",
    "\n",
    "print(A)\n",
    "\n",
    "print(B)"
   ]
  },
  {
   "cell_type": "code",
   "execution_count": null,
   "id": "22ba801e",
   "metadata": {},
   "outputs": [],
   "source": [
    "A = cytnx.arange(24)\n",
    "\n",
    "print(A)\n",
    "\n",
    "A.reshape_(2,3,4)\n",
    "\n",
    "print(A)"
   ]
  },
  {
   "cell_type": "code",
   "execution_count": null,
   "id": "1bbb613a",
   "metadata": {},
   "outputs": [],
   "source": [
    "A = cytnx.arange(24).reshape(2,3,4)\n",
    "\n",
    "B = A.permute(1,2,0)\n",
    "\n",
    "print(A)\n",
    "\n",
    "print(B)"
   ]
  },
  {
   "cell_type": "code",
   "execution_count": null,
   "id": "ef667a38",
   "metadata": {},
   "outputs": [],
   "source": [
    "     \n",
    "\n",
    "A = cytnx.arange(24).reshape(2,3,4)\n",
    "\n",
    "print(A.is_contiguous())\n",
    "\n",
    "print(A)\n",
    "\n",
    "\n",
    "A.permute_(1,0,2)\n",
    "\n",
    "print(A.is_contiguous())\n",
    "\n",
    "print(A)\n",
    "\n",
    "\n",
    "A.contiguous_()\n",
    "\n",
    "print(A.is_contiguous())"
   ]
  },
  {
   "cell_type": "markdown",
   "id": "590844a1",
   "metadata": {},
   "source": [
    "3.3. Accessing elements"
   ]
  },
  {
   "cell_type": "code",
   "execution_count": null,
   "id": "9f9ae8d9",
   "metadata": {},
   "outputs": [],
   "source": [
    "A = cytnx.arange(24).reshape(2,3,4)\n",
    "\n",
    "print(A)\n",
    "\n",
    "\n",
    "B = A[0,:,1:4:2]\n",
    "\n",
    "print(B)\n",
    "\n",
    "\n",
    "C = A[:,1]\n",
    "\n",
    "print(C)"
   ]
  },
  {
   "cell_type": "code",
   "execution_count": null,
   "id": "5ace934d",
   "metadata": {},
   "outputs": [],
   "source": [
    "A = cytnx.arange(24).reshape(2,3,4)\n",
    "\n",
    "B = A[0,0,1]\n",
    "\n",
    "C = B.item()\n",
    "\n",
    "print(B)\n",
    "\n",
    "print(C)"
   ]
  },
  {
   "cell_type": "code",
   "execution_count": null,
   "id": "e67683ba",
   "metadata": {},
   "outputs": [],
   "source": [
    "A = cytnx.arange(24).reshape(2,3,4)\n",
    "\n",
    "B = cytnx.zeros([3,2])\n",
    "\n",
    "print(A)\n",
    "\n",
    "print(B)\n",
    "\n",
    "\n",
    "A[1,:,::2] = B\n",
    "\n",
    "print(A)\n",
    "\n",
    "\n",
    "A[0,::2,2] = 4\n",
    "\n",
    "print(A)\n",
    "\n"
   ]
  },
  {
   "cell_type": "markdown",
   "id": "847ff8ed",
   "metadata": {},
   "source": [
    "3.4. Tensor arithmetic"
   ]
  },
  {
   "cell_type": "code",
   "execution_count": null,
   "id": "50af1488",
   "metadata": {},
   "outputs": [],
   "source": [
    "A = cytnx.ones([3,4])\n",
    "\n",
    "print(A)\n",
    "\n",
    "\n",
    "B = A + 4\n",
    "\n",
    "print(B)\n",
    "\n",
    "\n",
    "C = A - 7j # type promotion\n",
    "\n",
    "print(C)"
   ]
  },
  {
   "cell_type": "code",
   "execution_count": null,
   "id": "4c95f0f5",
   "metadata": {},
   "outputs": [],
   "source": [
    "A = cytnx.arange(12).reshape(3,4)\n",
    "\n",
    "print(A)\n",
    "\n",
    "\n",
    "B = cytnx.ones([3,4])*4\n",
    "\n",
    "print(B)\n",
    "\n",
    "\n",
    "C = A * B\n",
    "\n",
    "print(C)"
   ]
  },
  {
   "cell_type": "markdown",
   "id": "110d8a9e",
   "metadata": {},
   "source": [
    "3.5. To/From numpy.array"
   ]
  },
  {
   "cell_type": "code",
   "execution_count": null,
   "id": "80ca59fe",
   "metadata": {},
   "outputs": [],
   "source": [
    "A = cytnx.ones([3,4])\n",
    "\n",
    "B = A.numpy()\n",
    "\n",
    "print(A)\n",
    "\n",
    "print(type(B))\n",
    "\n",
    "print(B)"
   ]
  },
  {
   "cell_type": "code",
   "execution_count": null,
   "id": "b64b381f",
   "metadata": {},
   "outputs": [],
   "source": [
    "import numpy as np\n",
    "\n",
    "B = np.ones([3,4])\n",
    "\n",
    "A = cytnx.from_numpy(B)\n",
    "\n",
    "print(B)\n",
    "\n",
    "print(A)"
   ]
  },
  {
   "cell_type": "markdown",
   "id": "dee53f95",
   "metadata": {},
   "source": [
    "3.6. Appending elements"
   ]
  },
  {
   "cell_type": "code",
   "execution_count": null,
   "id": "e980d437",
   "metadata": {},
   "outputs": [],
   "source": [
    "A = cytnx.ones(4)\n",
    "\n",
    "print(A)\n",
    "\n",
    "A.append(4)\n",
    "\n",
    "print(A)"
   ]
  },
  {
   "cell_type": "code",
   "execution_count": null,
   "id": "eaff25cf",
   "metadata": {},
   "outputs": [],
   "source": [
    "A = cytnx.ones([3,4,5])\n",
    "\n",
    "B = cytnx.ones([4,5])*2\n",
    "\n",
    "print(A)\n",
    "\n",
    "print(B)\n",
    "\n",
    "\n",
    "A.append(B)\n",
    "\n",
    "print(A)"
   ]
  },
  {
   "cell_type": "markdown",
   "id": "d79c68cf",
   "metadata": {},
   "source": [
    "3.7. Save/Load"
   ]
  },
  {
   "cell_type": "code",
   "execution_count": null,
   "id": "aceac68e",
   "metadata": {},
   "outputs": [],
   "source": [
    "A = cytnx.arange(12).reshape(3,4)\n",
    "\n",
    "A.Save(\"T1\")"
   ]
  },
  {
   "cell_type": "code",
   "execution_count": null,
   "id": "1dfeefbb",
   "metadata": {},
   "outputs": [],
   "source": [
    "A = cytnx.Tensor.Load(\"T1.cytn\")\n",
    "\n",
    "print(A)"
   ]
  },
  {
   "cell_type": "markdown",
   "id": "82a23d25",
   "metadata": {},
   "source": [
    "3.8. When will data be copied?"
   ]
  },
  {
   "cell_type": "code",
   "execution_count": null,
   "id": "4f06959c",
   "metadata": {},
   "outputs": [],
   "source": [
    "A = cytnx.zeros([3,4,5])\n",
    "\n",
    "B = A\n",
    "\n",
    "\n",
    "print(B is A)"
   ]
  },
  {
   "cell_type": "code",
   "execution_count": null,
   "id": "c074bd66",
   "metadata": {},
   "outputs": [],
   "source": [
    "A = cytnx.zeros([3,4,5])\n",
    "\n",
    "B = A.clone()\n",
    "\n",
    "\n",
    "print(B is A)"
   ]
  },
  {
   "cell_type": "code",
   "execution_count": null,
   "id": "f8a67e0d",
   "metadata": {},
   "outputs": [],
   "source": [
    "     \n",
    "\n",
    "A = cytnx.zeros([2,3,4])\n",
    "\n",
    "B = A.permute(0,2,1)\n",
    "\n",
    "\n",
    "print(A)\n",
    "\n",
    "print(B)\n",
    "\n",
    "\n",
    "print(B is A)"
   ]
  },
  {
   "cell_type": "code",
   "execution_count": null,
   "id": "08ed9539",
   "metadata": {},
   "outputs": [],
   "source": [
    "A[0,0,0] = 300\n",
    "\n",
    "\n",
    "print(A)\n",
    "\n",
    "print(B)"
   ]
  },
  {
   "cell_type": "code",
   "execution_count": null,
   "id": "b1af41b8",
   "metadata": {},
   "outputs": [],
   "source": [
    "print(B.same_data(A))"
   ]
  },
  {
   "cell_type": "code",
   "execution_count": null,
   "id": "bac645ca",
   "metadata": {},
   "outputs": [],
   "source": [
    "A = cytnx.zeros([2,3,4])\n",
    "\n",
    "B = A.permute(0,2,1)\n",
    "\n",
    "\n",
    "print(A.is_contiguous())\n",
    "\n",
    "print(B.is_contiguous())"
   ]
  },
  {
   "cell_type": "code",
   "execution_count": null,
   "id": "ca1ba592",
   "metadata": {},
   "outputs": [],
   "source": [
    "C = B.contiguous()\n",
    "\n",
    "\n",
    "print(C)\n",
    "\n",
    "print(C.is_contiguous())\n",
    "\n",
    "\n",
    "print(C.same_data(B))"
   ]
  },
  {
   "cell_type": "markdown",
   "id": "11c3c56c",
   "metadata": {},
   "source": [
    "4. Storage"
   ]
  },
  {
   "cell_type": "markdown",
   "id": "13944dc5",
   "metadata": {},
   "source": [
    "4.1. Creating a Storage"
   ]
  },
  {
   "cell_type": "code",
   "execution_count": null,
   "id": "9f734b68",
   "metadata": {},
   "outputs": [],
   "source": [
    "     \n",
    "\n",
    "A = cytnx.Storage(10,dtype=cytnx.Type.Double,device=cytnx.Device.cpu)\n",
    "\n",
    "A.set_zeros();\n",
    "\n",
    "\n",
    "print(A);"
   ]
  },
  {
   "cell_type": "code",
   "execution_count": null,
   "id": "5958afe3",
   "metadata": {},
   "outputs": [],
   "source": [
    "A = cytnx.Storage(10)\n",
    "\n",
    "A.set_zeros()\n",
    "\n",
    "\n",
    "B = A.astype(cytnx.Type.ComplexDouble)\n",
    "\n",
    "\n",
    "print(A)\n",
    "\n",
    "print(B)"
   ]
  },
  {
   "cell_type": "code",
   "execution_count": null,
   "id": "094217d5",
   "metadata": {},
   "outputs": [],
   "source": [
    "A = cytnx.Storage(4)\n",
    "\n",
    "B = A.to(cytnx.Device.cuda)\n",
    "\n",
    "\n",
    "print(A.device_str())\n",
    "\n",
    "print(B.device_str())\n",
    "\n",
    "\n",
    "A.to_(cytnx.Device.cuda)\n",
    "\n",
    "print(A.device_str())"
   ]
  },
  {
   "cell_type": "code",
   "execution_count": null,
   "id": "8c9626fe",
   "metadata": {},
   "outputs": [],
   "source": [
    "A = cytnx.arange(10).reshape(2,5);\n",
    "\n",
    "B = A.storage();\n",
    "\n",
    "\n",
    "print(A)\n",
    "\n",
    "print(B)"
   ]
  },
  {
   "cell_type": "code",
   "execution_count": null,
   "id": "3a918619",
   "metadata": {},
   "outputs": [],
   "source": [
    "A = cytnx.arange(8).reshape(2,2,2)\n",
    "\n",
    "print(A.storage())\n",
    "\n",
    "\n",
    "# Let's make it non-contiguous\n",
    "\n",
    "A.permute_(0,2,1)\n",
    "\n",
    "print(A.is_contiguous())\n",
    "\n",
    "\n",
    "# Note that the storage is not changed\n",
    "\n",
    "print(A.storage())\n",
    "\n",
    "\n",
    "# Now let's make it contiguous\n",
    "\n",
    "# thus the elements is moved\n",
    "\n",
    "A.contiguous_();\n",
    "\n",
    "print(A.is_contiguous())\n",
    "\n",
    "\n",
    "# Note that the storage now is changed\n",
    "\n",
    "print(A.storage())"
   ]
  },
  {
   "cell_type": "markdown",
   "id": "9e942dce",
   "metadata": {},
   "source": [
    "4.2. Accessing elements"
   ]
  },
  {
   "cell_type": "code",
   "execution_count": null,
   "id": "a20d0af0",
   "metadata": {},
   "outputs": [],
   "source": [
    "A = cytnx.Storage(6)\n",
    "\n",
    "A.set_zeros()\n",
    "\n",
    "print(A)\n",
    "\n",
    "\n",
    "A[4] = 4\n",
    "\n",
    "print(A)"
   ]
  },
  {
   "cell_type": "markdown",
   "id": "42dadf9e",
   "metadata": {},
   "source": [
    "4.3. Increase size"
   ]
  },
  {
   "cell_type": "code",
   "execution_count": null,
   "id": "b8d86ff2",
   "metadata": {},
   "outputs": [],
   "source": [
    "A = cytnx.Storage(4)\n",
    "\n",
    "A.set_zeros();\n",
    "\n",
    "print(A)\n",
    "\n",
    "\n",
    "A.append(500)\n",
    "\n",
    "print(A)"
   ]
  },
  {
   "cell_type": "code",
   "execution_count": null,
   "id": "733ac837",
   "metadata": {},
   "outputs": [],
   "source": [
    "A = cytnx.Storage(4);\n",
    "\n",
    "print(A.size());\n",
    "\n",
    "\n",
    "A.resize(5);\n",
    "\n",
    "print(A.size());"
   ]
  },
  {
   "cell_type": "markdown",
   "id": "b5025fb9",
   "metadata": {},
   "source": [
    "4.4. From/To C++.vector"
   ]
  },
  {
   "cell_type": "markdown",
   "id": "603059bb",
   "metadata": {},
   "source": [
    "4.5. Save/Load"
   ]
  },
  {
   "cell_type": "code",
   "execution_count": null,
   "id": "775133c9",
   "metadata": {},
   "outputs": [],
   "source": [
    "A = cytnx.Storage(4)\n",
    "\n",
    "A.fill(6)\n",
    "\n",
    "A.Save(\"S1\")"
   ]
  },
  {
   "cell_type": "code",
   "execution_count": null,
   "id": "f322982f",
   "metadata": {},
   "outputs": [],
   "source": [
    "A = cytnx.Storage.Load(\"S1.cyst\")\n",
    "\n",
    "print(A)"
   ]
  },
  {
   "cell_type": "code",
   "execution_count": null,
   "id": "cf93d159",
   "metadata": {},
   "outputs": [],
   "source": [
    "# read\n",
    "\n",
    "A = cytnx.Storage(10);\n",
    "\n",
    "A.fill(10);\n",
    "\n",
    "print(A);\n",
    "\n",
    "\n",
    "A.Tofile(\"S1\");\n",
    "\n",
    "\n",
    "#load\n",
    "\n",
    "B = cytnx.Storage.Fromfile(\"S1\",cytnx.Type.Double);\n",
    "\n",
    "print(B);"
   ]
  },
  {
   "cell_type": "markdown",
   "id": "2c68da0f",
   "metadata": {},
   "source": [
    "5. Scalar"
   ]
  },
  {
   "cell_type": "markdown",
   "id": "9766caeb",
   "metadata": {},
   "source": [
    "6. Tensor notation"
   ]
  },
  {
   "cell_type": "markdown",
   "id": "f9261dbb",
   "metadata": {},
   "source": [
    "7. UniTensor"
   ]
  },
  {
   "cell_type": "markdown",
   "id": "fbb304d6",
   "metadata": {},
   "source": [
    "7.1. Print and display"
   ]
  },
  {
   "cell_type": "code",
   "execution_count": null,
   "id": "12b32f39",
   "metadata": {},
   "outputs": [],
   "source": [
    "uT=cytnx.UniTensor(cytnx.ones([2,3,4]), name=\"untagged tensor\").relabels_([\"a\",\"b\",\"c\"])\n",
    "\n",
    "bond_d = cytnx.Bond(cytnx.BD_IN, [cytnx.Qs(1)>>1, cytnx.Qs(-1)>>1],[cytnx.Symmetry.U1()])\n",
    "\n",
    "bond_e = cytnx.Bond(cytnx.BD_IN, [cytnx.Qs(1)>>1, cytnx.Qs(-1)>>1],[cytnx.Symmetry.U1()])\n",
    "\n",
    "bond_f = cytnx.Bond(cytnx.BD_OUT,\\\n",
    "\n",
    "                    [cytnx.Qs(2)>>1, cytnx.Qs(0)>>2, cytnx.Qs(-2)>>1],[cytnx.Symmetry.U1()])\n",
    "\n",
    "bond_g = cytnx.Bond(2,cytnx.BD_OUT)\n",
    "\n",
    "bond_h = cytnx.Bond(2,cytnx.BD_IN)\n",
    "\n",
    "Tsymm = cytnx.UniTensor([bond_d, bond_e, bond_f], name=\"symm. tensor\").relabels_([\"d\",\"e\",\"f\"])\n",
    "\n",
    "Tdiag= cytnx.UniTensor([bond_g, bond_h], is_diag=True, name=\"diag tensor\").relabels_([\"g\",\"h\"])\n"
   ]
  },
  {
   "cell_type": "code",
   "execution_count": null,
   "id": "bef59bff",
   "metadata": {},
   "outputs": [],
   "source": [
    "uT.print_diagram()\n",
    "\n",
    "Tsymm.print_diagram()\n",
    "\n",
    "Tdiag.print_diagram()"
   ]
  },
  {
   "cell_type": "code",
   "execution_count": null,
   "id": "152c61c6",
   "metadata": {},
   "outputs": [],
   "source": [
    "uT.set_name(\"tensor uT\")\n",
    "\n",
    "uT.print_diagram()"
   ]
  },
  {
   "cell_type": "code",
   "execution_count": null,
   "id": "4f27bf1e",
   "metadata": {},
   "outputs": [],
   "source": [
    "uT.print_blocks()\n",
    "\n",
    "print(Tdiag)"
   ]
  },
  {
   "cell_type": "code",
   "execution_count": null,
   "id": "d82b5eed",
   "metadata": {},
   "outputs": [],
   "source": [
    "print(Tsymm)"
   ]
  },
  {
   "cell_type": "code",
   "execution_count": null,
   "id": "ae6d3e4d",
   "metadata": {},
   "outputs": [],
   "source": [
    "Tsymm.print_block(2)"
   ]
  },
  {
   "cell_type": "markdown",
   "id": "209475cb",
   "metadata": {},
   "source": [
    "7.2. Creating a UniTensor"
   ]
  },
  {
   "cell_type": "code",
   "execution_count": null,
   "id": "9ae7035e",
   "metadata": {},
   "outputs": [],
   "source": [
    "# create a rank-3 tensor with shape [2,3,4]\n",
    "\n",
    "T = cytnx.arange(2*3*4).reshape(2,3,4)\n",
    "\n",
    "# convert to UniTensor:\n",
    "\n",
    "uT = cytnx.UniTensor(T)"
   ]
  },
  {
   "cell_type": "code",
   "execution_count": null,
   "id": "0e72f15b",
   "metadata": {},
   "outputs": [],
   "source": [
    "# create a tensor with complex data type\n",
    "T = cytnx.ones([3,4,5], dtype=cytnx.Type.ComplexDouble)\n",
    "# convert to UniTensor:\n",
    "uT = cytnx.UniTensor(T)"
   ]
  },
  {
   "cell_type": "code",
   "execution_count": null,
   "id": "416288b5",
   "metadata": {},
   "outputs": [],
   "source": [
    "uT.print_diagram()"
   ]
  },
  {
   "cell_type": "code",
   "execution_count": null,
   "id": "3c876351",
   "metadata": {},
   "outputs": [],
   "source": [
    "uT2 = cytnx.UniTensor([cytnx.Bond(2),cytnx.Bond(3),cytnx.Bond(4)],labels=[\"a\",\"b\",\"c\"],rowrank=1)\n",
    "\n",
    "uT2.set_name(\"uT2 scratch\")\n",
    "\n",
    "uT2.print_diagram()\n",
    "\n",
    "print(uT2)"
   ]
  },
  {
   "cell_type": "markdown",
   "id": "0063b0b3",
   "metadata": {},
   "source": [
    "7.3. Changing labels"
   ]
  },
  {
   "cell_type": "code",
   "execution_count": null,
   "id": "545b5df7",
   "metadata": {},
   "outputs": [],
   "source": [
    "T = cytnx.arange(2*3*4).reshape(2,3,4)\n",
    "\n",
    "uT = cytnx.UniTensor(T)\n",
    "\n",
    "\n",
    "uT.relabel_(1,\"xx\")\n",
    "\n",
    "uT.print_diagram()\n",
    "\n",
    "\n",
    "uT.relabels_([\"a\",\"b\",\"c\"])\n",
    "\n",
    "uT.print_diagram()"
   ]
  },
  {
   "cell_type": "code",
   "execution_count": null,
   "id": "bbc5a858",
   "metadata": {},
   "outputs": [],
   "source": [
    "uT_new = uT.relabel(\"a\",\"xx\")\n",
    "\n",
    "uT.print_diagram()\n",
    "\n",
    "uT_new.print_diagram()\n",
    "\n",
    "\n",
    "print(uT_new.same_data(uT))"
   ]
  },
  {
   "cell_type": "markdown",
   "id": "34154952",
   "metadata": {},
   "source": [
    "7.4. Bond"
   ]
  },
  {
   "cell_type": "code",
   "execution_count": null,
   "id": "dd7e1f0d",
   "metadata": {},
   "outputs": [],
   "source": [
    "sym_u1 = cytnx.Symmetry.U1()\n",
    "\n",
    "sym_z2 = cytnx.Symmetry.Zn(2)\n",
    "\n",
    "print(sym_u1)\n",
    "\n",
    "print(sym_z2)"
   ]
  },
  {
   "cell_type": "code",
   "execution_count": null,
   "id": "c5be4141",
   "metadata": {},
   "outputs": [],
   "source": [
    "# This creates an KET (IN) Bond with quantum number 0,-4,-2,3 with degs 3,4,3,2 respectively.\n",
    "\n",
    "bd_sym_u1_a = cytnx.Bond(cytnx.BD_KET,\\\n",
    "\n",
    "                        [cytnx.Qs(0)>>3,cytnx.Qs(-4)>>4,cytnx.Qs(-2)>>3,cytnx.Qs(3)>>2],\\\n",
    "\n",
    "                        [cytnx.Symmetry.U1()])\n",
    "\n",
    "\n",
    "# equivalent:\n",
    "\n",
    "bd_sym_u1_a = cytnx.Bond(cytnx.BD_IN,\\\n",
    "\n",
    "                        [cytnx.Qs(0),cytnx.Qs(-4),cytnx.Qs(-2),cytnx.Qs(3)],\\\n",
    "\n",
    "                        [3,4,3,2],[cytnx.Symmetry.U1()])\n",
    "\n",
    "\n",
    "print(bd_sym_u1_a)"
   ]
  },
  {
   "cell_type": "code",
   "execution_count": null,
   "id": "b92ee167",
   "metadata": {},
   "outputs": [],
   "source": [
    "# This creates a KET (IN) Bond with U1xZ2 symmetry\n",
    "\n",
    "# and quantum numbers (0,0),(-4,1),(-2,0),(3,1) with degs 3,4,3,2 respectively.\n",
    "\n",
    "bd_sym_u1z2_a = cytnx.Bond(cytnx.BD_KET,\\\n",
    "\n",
    "                           [cytnx.Qs(0 ,0)>>3,\\\n",
    "\n",
    "                            cytnx.Qs(-4,1)>>4,\\\n",
    "\n",
    "                            cytnx.Qs(-2,0)>>3,\\\n",
    "\n",
    "                            cytnx.Qs(3 ,1)>>2],\\\n",
    "\n",
    "                           [cytnx.Symmetry.U1(),cytnx.Symmetry.Zn(2)])\n",
    "\n",
    "\n",
    "print(bd_sym_u1z2_a)"
   ]
  },
  {
   "cell_type": "code",
   "execution_count": null,
   "id": "e2af85b1",
   "metadata": {},
   "outputs": [],
   "source": [
    "bd_sym_u1_c = cytnx.Bond(cytnx.BD_KET,\\\n",
    "\n",
    "                [cytnx.Qs(-1)>>2,cytnx.Qs(1)>>3,cytnx.Qs(2)>>4,cytnx.Qs(-2)>>5,cytnx.Qs(0)>>6])\n",
    "\n",
    "print(bd_sym_u1_c)\n",
    "\n",
    "\n",
    "bd_sym_all = bd_sym_u1_a.combineBond(bd_sym_u1_c)\n",
    "\n",
    "print(bd_sym_all)"
   ]
  },
  {
   "cell_type": "code",
   "execution_count": null,
   "id": "2e8aa593",
   "metadata": {},
   "outputs": [],
   "source": [
    "bd_sym_all = bd_sym_u1_a.combineBond(bd_sym_u1_c,is_grp=False)\n",
    "\n",
    "print(bd_sym_all) #Should throw an warning"
   ]
  },
  {
   "cell_type": "markdown",
   "id": "330705f3",
   "metadata": {},
   "source": [
    "7.5. Tagged UniTensor"
   ]
  },
  {
   "cell_type": "code",
   "execution_count": null,
   "id": "bcb86ec8",
   "metadata": {},
   "outputs": [],
   "source": [
    "bond_a = cytnx.Bond(3, cytnx.BD_KET)\n",
    "\n",
    "bond_b = cytnx.Bond(3, cytnx.BD_BRA)\n",
    "\n",
    "Ta = cytnx.UniTensor([bond_a, bond_a, bond_b], labels=[0, 1, 2], rowrank = 2)\n",
    "\n",
    "Ta.set_name(\"Ta\")\n",
    "\n",
    "Ta.print_diagram()\n",
    "\n",
    "Tb = cytnx.UniTensor([bond_a, bond_b, bond_b], labels=[2, 3, 4], rowrank = 1)\n",
    "\n",
    "Tb.set_name(\"Tb\")\n",
    "\n",
    "Tb.print_diagram()\n",
    "\n",
    "Tc = cytnx.UniTensor([bond_b, bond_b, bond_b], labels=[2, 3, 4], rowrank = 1)\n",
    "\n",
    "Tc.set_name(\"Tc\")\n",
    "\n",
    "Tc.print_diagram()"
   ]
  },
  {
   "cell_type": "code",
   "execution_count": null,
   "id": "795371c7",
   "metadata": {},
   "outputs": [],
   "source": [
    "     \n",
    "\n",
    "cytnx.Contract(Ta, Tb)\n",
    "\n",
    "cytnx.Contract(Ta, Tc) #Should throw an error because of mismatching Bond directions"
   ]
  },
  {
   "cell_type": "markdown",
   "id": "506cc2b6",
   "metadata": {},
   "source": [
    "7.6. UniTensor with Symmetries"
   ]
  },
  {
   "cell_type": "code",
   "execution_count": null,
   "id": "b92b91d9",
   "metadata": {},
   "outputs": [],
   "source": [
    "bond_d = cytnx.Bond(cytnx.BD_IN, [cytnx.Qs(1)>>1, cytnx.Qs(-1)>>1],[cytnx.Symmetry.U1()])\n",
    "\n",
    "bond_e = cytnx.Bond(cytnx.BD_IN, [cytnx.Qs(1)>>1, cytnx.Qs(-1)>>1],[cytnx.Symmetry.U1()])\n",
    "\n",
    "bond_f = cytnx.Bond(cytnx.BD_OUT, [cytnx.Qs(2)>>1, cytnx.Qs(0)>>2, cytnx.Qs(-2)>>1],[cytnx.Symmetry.U1()])\n",
    "\n",
    "Tsymm = cytnx.UniTensor([bond_d, bond_e, bond_f], name=\"symm. tensor\").relabels_([\"d\",\"e\",\"f\"])\n",
    "\n",
    "Tsymm.print_diagram()"
   ]
  },
  {
   "cell_type": "code",
   "execution_count": null,
   "id": "32142c7e",
   "metadata": {},
   "outputs": [],
   "source": [
    "Tsymm.print_blocks()"
   ]
  },
  {
   "cell_type": "markdown",
   "id": "210245a8",
   "metadata": {},
   "source": [
    "7.7. Accessing the block(s)"
   ]
  },
  {
   "cell_type": "code",
   "execution_count": null,
   "id": "f734153e",
   "metadata": {},
   "outputs": [],
   "source": [
    "# Create an UniTensor from Tensor\n",
    "\n",
    "T = cytnx.UniTensor(cytnx.ones([3,3]))\n",
    "\n",
    "print(T.get_block())"
   ]
  },
  {
   "cell_type": "code",
   "execution_count": null,
   "id": "ff02d8c4",
   "metadata": {},
   "outputs": [],
   "source": [
    "bond_d = cytnx.Bond(cytnx.BD_IN, [cytnx.Qs(1)>>1, cytnx.Qs(-1)>>1],[cytnx.Symmetry.U1()])\n",
    "\n",
    "bond_e = cytnx.Bond(cytnx.BD_IN, [cytnx.Qs(1)>>1, cytnx.Qs(-1)>>1],[cytnx.Symmetry.U1()])\n",
    "\n",
    "bond_f = cytnx.Bond(cytnx.BD_OUT,\\\n",
    "\n",
    "                    [cytnx.Qs(2)>>1, cytnx.Qs(0)>>2, cytnx.Qs(-2)>>1],[cytnx.Symmetry.U1()])\n",
    "\n",
    "Tsymm = cytnx.UniTensor([bond_d, bond_e, bond_f], name=\"symm. tensor\").relabels_([\"d\",\"e\",\"f\"])"
   ]
  },
  {
   "cell_type": "code",
   "execution_count": null,
   "id": "e1e2c083",
   "metadata": {},
   "outputs": [],
   "source": [
    "B1 = Tsymm.get_block_([0,1,1])\n",
    "\n",
    "print(B1)"
   ]
  },
  {
   "cell_type": "code",
   "execution_count": null,
   "id": "fc412ab4",
   "metadata": {},
   "outputs": [],
   "source": [
    "B1 = Tsymm.get_block_(1)\n",
    "\n",
    "print(B1)"
   ]
  },
  {
   "cell_type": "code",
   "execution_count": null,
   "id": "0243d2b3",
   "metadata": {},
   "outputs": [],
   "source": [
    "Blks = Tsymm.get_blocks_()\n",
    "\n",
    "print(len(Blks))\n",
    "\n",
    "print(*Blks)"
   ]
  },
  {
   "cell_type": "code",
   "execution_count": null,
   "id": "a79cb47d",
   "metadata": {},
   "outputs": [],
   "source": [
    "B1new = cytnx.ones([1,1,2])\n",
    "\n",
    "B1 = Tsymm.get_block_([0,1,1])\n",
    "\n",
    "print(B1)\n",
    "\n",
    "Tsymm.put_block(B1new,[0,1,1])\n",
    "\n",
    "print(Tsymm.get_block_([0,1,1]))"
   ]
  },
  {
   "cell_type": "code",
   "execution_count": null,
   "id": "6ff4876c",
   "metadata": {},
   "outputs": [],
   "source": [
    "B2new = cytnx.ones([1,1,2])\n",
    "\n",
    "B2 = Tsymm.get_block_(2)\n",
    "\n",
    "print(B2)\n",
    "\n",
    "Tsymm.put_block(B2new,2)\n",
    "\n",
    "print(Tsymm.get_block_(2))"
   ]
  },
  {
   "cell_type": "markdown",
   "id": "ccb483fa",
   "metadata": {},
   "source": [
    "7.8. Get/set UniTensor element"
   ]
  },
  {
   "cell_type": "code",
   "execution_count": null,
   "id": "6a3d4c21",
   "metadata": {},
   "outputs": [],
   "source": [
    "T = cytnx.UniTensor(cytnx.arange(9).reshape(3,3))\n",
    "\n",
    "print(T.at([0,2]).value)"
   ]
  },
  {
   "cell_type": "code",
   "execution_count": null,
   "id": "91562fa6",
   "metadata": {},
   "outputs": [],
   "source": [
    "T = cytnx.UniTensor(cytnx.arange(9).reshape(3,3))\n",
    "\n",
    "print(T.at([0,2]).value)\n",
    "\n",
    "T.at([0,2]).value = 7\n",
    "\n",
    "print(T.at([0,2]).value)"
   ]
  },
  {
   "cell_type": "code",
   "execution_count": null,
   "id": "5719c596",
   "metadata": {},
   "outputs": [],
   "source": [
    "bond_d = cytnx.Bond(cytnx.BD_IN, [cytnx.Qs(1)>>1, cytnx.Qs(-1)>>1],[cytnx.Symmetry.U1()])\n",
    "\n",
    "bond_e = cytnx.Bond(cytnx.BD_IN, [cytnx.Qs(1)>>1, cytnx.Qs(-1)>>1],[cytnx.Symmetry.U1()])\n",
    "\n",
    "bond_f = cytnx.Bond(cytnx.BD_OUT,\\\n",
    "\n",
    "                    [cytnx.Qs(2)>>1, cytnx.Qs(0)>>2, cytnx.Qs(-2)>>1],[cytnx.Symmetry.U1()])\n",
    "\n",
    "Tsymm = cytnx.UniTensor([bond_d, bond_e, bond_f], name=\"symm. tensor\").relabels_([\"d\",\"e\",\"f\"])"
   ]
  },
  {
   "cell_type": "code",
   "execution_count": null,
   "id": "957b8608",
   "metadata": {},
   "outputs": [],
   "source": [
    "print(Tsymm.at([0,0,0]).value)"
   ]
  },
  {
   "cell_type": "code",
   "execution_count": null,
   "id": "9b8825f8",
   "metadata": {},
   "outputs": [],
   "source": [
    "print(Tsymm.at([0,0,1]).value) #should throw an error because this element does not belong to a valid block"
   ]
  },
  {
   "cell_type": "code",
   "execution_count": null,
   "id": "d2fd92e5",
   "metadata": {},
   "outputs": [],
   "source": [
    "for i in [0,1]:\n",
    "\n",
    "    tmp = Tsymm.at([0,0,i])\n",
    "\n",
    "    if(tmp.exists()):\n",
    "\n",
    "        tmp.value = 8."
   ]
  },
  {
   "cell_type": "markdown",
   "id": "63a3acdb",
   "metadata": {},
   "source": [
    "7.9. Manipulate UniTensor"
   ]
  },
  {
   "cell_type": "code",
   "execution_count": null,
   "id": "3dc909b1",
   "metadata": {},
   "outputs": [],
   "source": [
    "bond_d = cytnx.Bond(cytnx.BD_IN, [cytnx.Qs(1)>>1, cytnx.Qs(-1)>>1],[cytnx.Symmetry.U1()])\n",
    "\n",
    "bond_e = cytnx.Bond(cytnx.BD_IN, [cytnx.Qs(1)>>1, cytnx.Qs(-1)>>1],[cytnx.Symmetry.U1()])\n",
    "\n",
    "bond_f = cytnx.Bond(cytnx.BD_OUT,\\\n",
    "\n",
    "                    [cytnx.Qs(2)>>1, cytnx.Qs(0)>>2, cytnx.Qs(-2)>>1],[cytnx.Symmetry.U1()])\n",
    "\n",
    "Tsymm = cytnx.UniTensor([bond_d, bond_e, bond_f], name=\"symm. tensor\").relabels_([\"d\",\"e\",\"f\"])\n",
    "\n",
    "Tsymm.print_diagram()\n",
    "\n",
    "\n",
    "Tsymm_perm_ind=Tsymm.permute([2,0,1])\n",
    "\n",
    "Tsymm_perm_ind.print_diagram()\n",
    "\n",
    "\n",
    "Tsymm_perm_label=Tsymm.permute([\"f\",\"d\",\"e\"])\n",
    "\n",
    "Tsymm_perm_label.print_diagram()"
   ]
  },
  {
   "cell_type": "code",
   "execution_count": null,
   "id": "611d8de9",
   "metadata": {},
   "outputs": [],
   "source": [
    "T = cytnx.UniTensor(cytnx.arange(12).reshape(4,3))\n",
    "\n",
    "T.reshape_(2,3,2)\n",
    "\n",
    "T.print_diagram()"
   ]
  },
  {
   "cell_type": "code",
   "execution_count": null,
   "id": "1715b65c",
   "metadata": {},
   "outputs": [],
   "source": [
    "     \n",
    "\n",
    "T = cytnx.UniTensor(cytnx.ones([5,5,5,5,5]), rowrank = 3)\n",
    "\n",
    "S, U, Vt = cytnx.linalg.Svd(T)\n",
    "\n",
    "U.set_name('U')\n",
    "\n",
    "S.set_name('S')\n",
    "\n",
    "Vt.set_name('Vt')\n",
    "\n",
    "\n",
    "\n",
    "T.print_diagram()\n",
    "\n",
    "S.print_diagram()\n",
    "\n",
    "U.print_diagram()\n",
    "\n",
    "Vt.print_diagram()"
   ]
  },
  {
   "cell_type": "code",
   "execution_count": null,
   "id": "1b34aaa2",
   "metadata": {},
   "outputs": [],
   "source": [
    "Tsymm_diff=T-cytnx.Contracts([U,S,Vt]);\n",
    "\n",
    "Tsymm_diff.Norm()/T.Norm()"
   ]
  },
  {
   "cell_type": "markdown",
   "id": "1287d72f",
   "metadata": {},
   "source": [
    "8. Contraction"
   ]
  },
  {
   "cell_type": "markdown",
   "id": "aeae4334",
   "metadata": {},
   "source": [
    "8.1. Network"
   ]
  },
  {
   "cell_type": "markdown",
   "id": "065caa8b",
   "metadata": {},
   "source": [
    "ctm.net file:"
   ]
  },
  {
   "cell_type": "markdown",
   "id": "78099eaa",
   "metadata": {},
   "source": [
    "c0: t0-c0, t3-c0\n",
    "\n",
    "c1: t1-c1, t0-c1\n",
    "\n",
    "c2: t2-c2, t1-c2\n",
    "\n",
    "c3: t3-c3, t2-c3\n",
    "\n",
    "t0: t0-c1, w-t0, t0-c0\n",
    "\n",
    "t1: t1-c2, w-t1, t1-c1\n",
    "\n",
    "t2: t2-c3, w-t2, t2-c2\n",
    "\n",
    "t3: t3-c0, w-t3, t3-c3\n",
    "\n",
    "w: w-t0, w-t1, w-t2, w-t3\n",
    "\n",
    "TOUT:\n",
    "\n",
    "ORDER: ((((((((c0,t0),c1),t3),w),t1),c3),t2),c2)"
   ]
  },
  {
   "cell_type": "code",
   "execution_count": null,
   "id": "f5cc82a2",
   "metadata": {},
   "outputs": [],
   "source": [
    "# initialize tensors\n",
    "\n",
    "c0 = cytnx.UniTensor(cytnx.random.normal([8,8], mean=0., std=1.))\n",
    "\n",
    "c1 = cytnx.UniTensor(cytnx.random.normal([8,8], mean=0., std=1.))\n",
    "\n",
    "t0 = cytnx.UniTensor(cytnx.random.normal([8,2,8], mean=0., std=1.))\n",
    "\n",
    "# and so on...\n",
    "\n",
    "\n",
    "# put tensors\n",
    "\n",
    "net = cytnx.Network(\"ctm.net\")\n",
    "\n",
    "net.PutUniTensor(\"c0\",c0)\n",
    "\n",
    "net.PutUniTensor(\"t0\",t0)\n",
    "\n",
    "print(net)\n",
    "\n",
    "net.PutUniTensor(\"c1\",c1)\n",
    "\n",
    "# and so on..."
   ]
  },
  {
   "cell_type": "code",
   "execution_count": null,
   "id": "2377420e",
   "metadata": {},
   "outputs": [],
   "source": [
    "Res = net.Launch(optimal = True) #does not work because not all tensors are loaded with example Tensors"
   ]
  },
  {
   "cell_type": "code",
   "execution_count": null,
   "id": "255c7b9d",
   "metadata": {},
   "outputs": [],
   "source": [
    "net = cytnx.Network()\n",
    "\n",
    "net.FromString([\"c0: t0-c0, t3-c0\",\\\n",
    "\n",
    "                \"c1: t1-c1, t0-c1\",\\\n",
    "\n",
    "                \"c2: t2-c2, t1-c2\",\\\n",
    "\n",
    "                \"c3: t3-c3, t2-c3\",\\\n",
    "\n",
    "                \"t0: t0-c1, w-t0, t0-c0\",\\\n",
    "\n",
    "                \"t1: t1-c2, w-t1, t1-c1\",\\\n",
    "\n",
    "                \"t2: t2-c3, w-t2, t2-c2\",\\\n",
    "\n",
    "                \"t3: t3-c0, w-t3, t3-c3\",\\\n",
    "\n",
    "                \"w: w-t0, w-t1, w-t2, w-t3\",\\\n",
    "\n",
    "                \"TOUT:\",\\\n",
    "\n",
    "                \"ORDER: ((((((((c0,t0),c1),t3),w),t1),c3),t2),c2)\"])"
   ]
  },
  {
   "cell_type": "code",
   "execution_count": null,
   "id": "4f965a89",
   "metadata": {},
   "outputs": [],
   "source": [
    "A = cytnx.UniTensor(cytnx.ones([2,8,8]));\n",
    "\n",
    "A.relabels_([\"phy\", \"left\", \"right\"])\n",
    "\n",
    "B = cytnx.UniTensor(cytnx.ones([2,8,8]));\n",
    "\n",
    "B.relabels_([\"phy\", \"left\", \"right\"])\n",
    "\n"
   ]
  },
  {
   "cell_type": "code",
   "execution_count": null,
   "id": "effe196f",
   "metadata": {},
   "outputs": [],
   "source": [
    "net = cytnx.Network()\n",
    "\n",
    "net.FromString([\"T0: v0in, phy, v0out\",\\\n",
    "\n",
    "                \"T1: v1in, phy, v1out\",\\\n",
    "\n",
    "                \"TOUT: v0in, v1in; v0out, v1out\"])"
   ]
  },
  {
   "cell_type": "code",
   "execution_count": null,
   "id": "6f787aca",
   "metadata": {},
   "outputs": [],
   "source": [
    "net.PutUniTensor(\"T0\", A, [\"left\", \"phy\", \"right\"])\n",
    "\n",
    "net.PutUniTensor(\"T1\", B, [\"left\", \"phy\", \"right\"])\n",
    "\n",
    "Tout=net.Launch()\n",
    "\n",
    "Tout.print_diagram()"
   ]
  },
  {
   "cell_type": "markdown",
   "id": "be4e27d5",
   "metadata": {},
   "source": [
    "8.2. Contract(s)"
   ]
  },
  {
   "cell_type": "code",
   "execution_count": null,
   "id": "9656e62b",
   "metadata": {},
   "outputs": [],
   "source": [
    "     \n",
    "\n",
    "A = cytnx.UniTensor(cytnx.ones([2,3,4]), rowrank = 1)\n",
    "\n",
    "A.relabels_([\"i\",\"j\",\"l\"])\n",
    "\n",
    "\n",
    "B = cytnx.UniTensor(cytnx.ones([3,2,4,5]), rowrank = 2)\n",
    "\n",
    "B.relabels_([\"j\",\"k\",\"l\",\"m\"])\n",
    "\n",
    "\n",
    "C = cytnx.Contract(A, B)\n",
    "\n",
    "\n",
    "A.print_diagram()\n",
    "\n",
    "B.print_diagram()\n",
    "\n",
    "C.print_diagram()"
   ]
  },
  {
   "cell_type": "code",
   "execution_count": null,
   "id": "26eee780",
   "metadata": {},
   "outputs": [],
   "source": [
    "A = cytnx.UniTensor(cytnx.ones([2,3,4]), rowrank = 1)\n",
    "\n",
    "A.relabels_([\"i\",\"j\",\"l\"])\n",
    "\n",
    "Are = A.relabels([\"i\",\"j\",\"lA\"])\n",
    "\n",
    "\n",
    "B = cytnx.UniTensor(cytnx.ones([3,2,4,5]), rowrank = 2)\n",
    "\n",
    "B.relabels_([\"j\",\"k\",\"l\",\"m\"])\n",
    "\n",
    "Bre = B.relabels([\"j\",\"k\",\"lB\",\"m\"])\n",
    "\n",
    "\n",
    "C = cytnx.Contract(Are, Bre)\n",
    "\n",
    "\n",
    "A.print_diagram()\n",
    "\n",
    "B.print_diagram()\n",
    "\n",
    "C.print_diagram()"
   ]
  },
  {
   "cell_type": "code",
   "execution_count": null,
   "id": "8aba9164",
   "metadata": {},
   "outputs": [],
   "source": [
    "# Creating A1, A2, M\n",
    "\n",
    "A1 = cytnx.UniTensor(cytnx.ones([2,8,8]), name = \"A1\")\n",
    "\n",
    "A2 = cytnx.UniTensor(cytnx.ones([2,8,8]), name = \"A2\")\n",
    "\n",
    "M = cytnx.UniTensor(cytnx.ones([2,2,4,4]), name = \"M\")\n",
    "\n",
    "\n",
    "# Assign labels\n",
    "\n",
    "A1.relabels_([\"phy1\",\"v1\",\"v2\"])\n",
    "\n",
    "M.relabels_([\"phy1\",\"phy2\",\"v3\",\"v4\"])\n",
    "\n",
    "A2.relabels_([\"phy2\",\"v5\",\"v6\"])\n",
    "\n",
    "\n",
    "# Use Contracts\n",
    "\n",
    "res = cytnx.Contracts(TNs = [A1,M,A2], order = \"(M,(A1,A2))\", optimal = False)\n",
    "\n",
    "res.print_diagram()"
   ]
  },
  {
   "cell_type": "markdown",
   "id": "c2d93b81",
   "metadata": {},
   "source": [
    "8.3. ncon"
   ]
  },
  {
   "cell_type": "code",
   "execution_count": null,
   "id": "3e50f717",
   "metadata": {},
   "outputs": [],
   "source": [
    "# Creating A1, A2, M\n",
    "\n",
    "A1 = cytnx.UniTensor(cytnx.ones([2,8,8]))\n",
    "\n",
    "A2 = cytnx.UniTensor(cytnx.ones([2,8,8]))\n",
    "\n",
    "M = cytnx.UniTensor(cytnx.ones([2,2,4,4]))\n",
    "\n",
    "\n",
    "# Calling ncon\n",
    "\n",
    "res = cytnx.ncon([A1,M,A2],[[1,-1,-2],[1,2,-3,-4],[2,-5,-6]])"
   ]
  },
  {
   "cell_type": "markdown",
   "id": "a21fb956",
   "metadata": {},
   "source": [
    "9. Linear algebra"
   ]
  },
  {
   "cell_type": "markdown",
   "id": "f0f93e02",
   "metadata": {},
   "source": [
    "10. Iterative solver"
   ]
  },
  {
   "cell_type": "markdown",
   "id": "e942a5c4",
   "metadata": {},
   "source": [
    "10.1. LinOp class"
   ]
  },
  {
   "cell_type": "code",
   "execution_count": null,
   "id": "ba8ef1bd",
   "metadata": {},
   "outputs": [],
   "source": [
    "x = cytnx.ones(4)\n",
    "\n",
    "H = cytnx.arange(16).reshape(4,4)\n",
    "\n",
    "\n",
    "y = cytnx.linalg.Dot(H,x)\n",
    "\n",
    "\n",
    "print(x)\n",
    "\n",
    "print(H)\n",
    "\n",
    "print(y)"
   ]
  },
  {
   "cell_type": "code",
   "execution_count": null,
   "id": "8b7fecff",
   "metadata": {},
   "outputs": [],
   "source": [
    "def myfunc(v):\n",
    "\n",
    "    out = v.clone()\n",
    "\n",
    "    out[0],out[3] = v[3], v[0] #swap\n",
    "\n",
    "    out[1]+=1 #add 1\n",
    "\n",
    "    out[2]+=1 #add 1\n",
    "\n",
    "    return out"
   ]
  },
  {
   "cell_type": "code",
   "execution_count": null,
   "id": "a595d287",
   "metadata": {},
   "outputs": [],
   "source": [
    "#Does not work, see issue on gitlab\n",
    "H = cytnx.LinOp(\"mv\",nx=4,\\\n",
    "\n",
    "                 dtype=cytnx.Type.Double,\\\n",
    "\n",
    "                 device=cytnx.Device.cpu,\\\n",
    "\n",
    "                 custom_f=myfunc)"
   ]
  },
  {
   "cell_type": "code",
   "execution_count": null,
   "id": "b7f6835b",
   "metadata": {},
   "outputs": [],
   "source": [
    "x = cytnx.arange(4)\n",
    "\n",
    "y = H.matvec(x)\n",
    "\n",
    "print(x)\n",
    "\n",
    "print(y)"
   ]
  },
  {
   "cell_type": "code",
   "execution_count": null,
   "id": "fef2be28",
   "metadata": {},
   "outputs": [],
   "source": [
    "class MyOp(cytnx.LinOp):\n",
    "\n",
    "    AddConst = 1# class member.\n",
    "\n",
    "\n",
    "    def __init__(self,aconst):\n",
    "\n",
    "        # here, we fix nx=4, dtype=double on CPU,\n",
    "\n",
    "        # so the constructor only takes the external argument 'aconst'\n",
    "\n",
    "\n",
    "        ## Remember to init the mother class.\n",
    "\n",
    "        ## Here, we don't specify custom_f!\n",
    "\n",
    "        LinOp.__init__(self,\"mv\",4,cytnx.Type.Double,\\\n",
    "\n",
    "                                   cytnx.Device.cpu )\n",
    "\n",
    "\n",
    "        self.AddConst = aconst"
   ]
  },
  {
   "cell_type": "code",
   "execution_count": null,
   "id": "470c1a95",
   "metadata": {},
   "outputs": [],
   "source": [
    "class MyOp(cytnx.LinOp):\n",
    "\n",
    "    AddConst = 1# class member.\n",
    "\n",
    "\n",
    "    def __init__(self,aconst):\n",
    "\n",
    "        # here, we fix nx=4, dtype=double on CPU,\n",
    "\n",
    "        # so the constructor only takes the external argument 'aconst'\n",
    "\n",
    "\n",
    "        ## Remember to init the mother class.\n",
    "\n",
    "        ## Here, we don't specify custom_f!\n",
    "\n",
    "        cytnx.LinOp.__init__(self,\"mv\",4,cytnx.Type.Double,\\\n",
    "\n",
    "                                         cytnx.Device.cpu )\n",
    "\n",
    "\n",
    "        self.AddConst = aconst\n",
    "\n",
    "\n",
    "    def matvec(self, v):\n",
    "\n",
    "        out = v.clone()\n",
    "\n",
    "        out[0],out[3] = v[3],v[0] # swap\n",
    "\n",
    "        out[1]+=self.AddConst #add constant\n",
    "\n",
    "        out[2]+=self.AddConst #add constant\n",
    "\n",
    "        return out"
   ]
  },
  {
   "cell_type": "code",
   "execution_count": null,
   "id": "0c9dbbf1",
   "metadata": {},
   "outputs": [],
   "source": [
    "myop = MyOp(7)\n",
    "\n",
    "x = cytnx.arange(4)\n",
    "\n",
    "y = myop.matvec(x)\n",
    "\n",
    "\n",
    "print(x)\n",
    "\n",
    "print(y)"
   ]
  },
  {
   "cell_type": "code",
   "execution_count": null,
   "id": "069bed07",
   "metadata": {},
   "outputs": [],
   "source": [
    "class Oper(cytnx.LinOp):\n",
    "\n",
    "    Loc = []\n",
    "\n",
    "    Val = []\n",
    "\n",
    "\n",
    "    def __init__(self):\n",
    "\n",
    "        cytnx.LinOp.__init__(self,\"mv\",1000)\n",
    "\n",
    "\n",
    "        self.Loc.append([1,100])\n",
    "\n",
    "        self.Val.append(4.)\n",
    "\n",
    "\n",
    "        self.Loc.append([100,1])\n",
    "\n",
    "        self.Val.append(7.)\n",
    "\n",
    "\n",
    "    def matvec(self,v):\n",
    "\n",
    "        out = cytnx.zeros(v.shape(),v.dtype(),v.device())\n",
    "\n",
    "        for i in range(len(self.Loc)):\n",
    "\n",
    "            out[self.Loc[i][0]] += v[self.Loc[i][1]]*self.Val[i]\n",
    "\n",
    "        return out\n",
    "\n",
    "\n",
    "\n",
    "A = Oper();\n",
    "\n",
    "x = cytnx.arange(1000)\n",
    "\n",
    "y = A.matvec(x)\n",
    "\n",
    "\n",
    "print(x[1].item(),x[100].item())\n",
    "\n",
    "print(y[1].item(),y[100].item())\n"
   ]
  },
  {
   "cell_type": "code",
   "execution_count": null,
   "id": "00ec7771",
   "metadata": {},
   "outputs": [],
   "source": [
    "class Oper(cytnx.LinOp):\n",
    "\n",
    "\n",
    "    def __init__(self):\n",
    "\n",
    "        cytnx.LinOp.__init__(self,\"mv_elem\",1000)\n",
    "\n",
    "\n",
    "        self.set_elem(1,100,4.)\n",
    "\n",
    "        self.set_elem(100,1,7.)\n",
    "\n",
    "\n",
    "A = Oper();\n",
    "\n",
    "x = cytnx.arange(1000)\n",
    "\n",
    "y = A.matvec(x)\n",
    "\n",
    "\n",
    "print(x[1].item(),x[100].item())\n",
    "\n",
    "print(y[1].item(),y[100].item())"
   ]
  },
  {
   "cell_type": "markdown",
   "id": "7f13a864",
   "metadata": {},
   "source": [
    "10.2. Lanczos solver"
   ]
  },
  {
   "cell_type": "code",
   "execution_count": null,
   "id": "e26affd4",
   "metadata": {},
   "outputs": [],
   "source": [
    "#Does not work, see issue on gitlab\n",
    "class MyOp(cytnx.LinOp):\n",
    "\n",
    "    def __init__(self):\n",
    "\n",
    "        cytnx.LinOp.__init__(self,\"mv\",4)\n",
    "\n",
    "\n",
    "    def matvec(self,v):\n",
    "\n",
    "        A = cytnx.arange(16).reshape(4,4)\n",
    "\n",
    "        A += A.permute(1,0)\n",
    "\n",
    "        return cytnx.linalg.Dot(A,v)\n",
    "\n",
    "\n",
    "\n",
    "op = MyOp()\n",
    "\n",
    "\n",
    "v0 = cytnx.arange(4) # trial state\n",
    "\n",
    "ev = cytnx.linalg.Lanczos_ER(op,k=1,Tin=v0)\n",
    "\n",
    "\n",
    "print(ev[0]) #eigenval\n",
    "\n",
    "print(ev[1]) #eigenvec\n"
   ]
  },
  {
   "cell_type": "markdown",
   "id": "954abc83",
   "metadata": {},
   "source": [
    "Examples"
   ]
  },
  {
   "cell_type": "markdown",
   "id": "38c2dc7a",
   "metadata": {},
   "source": [
    "1. Exact Diagonalization"
   ]
  },
  {
   "cell_type": "code",
   "execution_count": null,
   "id": "5c42f151",
   "metadata": {},
   "outputs": [],
   "source": [
    "import cytnx as cy\n",
    "\n",
    "\n",
    "class Hising(cy.LinOp):\n",
    "\n",
    "\n",
    "    def __init__(self,L,J,Hx):\n",
    "\n",
    "        cy.LinOp.__init__(self,\"mv\",2**L,cy.Type.Double,cy.Device.cpu)\n",
    "\n",
    "        ## custom members:\n",
    "\n",
    "        self.J  = J\n",
    "\n",
    "        self.Hx = Hx\n",
    "\n",
    "        self.L  = L\n",
    "\n",
    "\n",
    "    def SzSz(self,i,j,ipt_id):\n",
    "\n",
    "        return ipt_id,(1. - 2.*(((ipt_id>>i)&0x1)^((ipt_id>>j)&0x1)))\n",
    "\n",
    "\n",
    "    def Sx(self,i,ipt_id):\n",
    "\n",
    "        out_id = ipt_id^((0x1)<<i)\n",
    "\n",
    "        return out_id,1.0\n",
    "\n",
    "\n",
    "    ## let's overload this with custom operation:\n",
    "\n",
    "    def matvec(self,v):\n",
    "\n",
    "        out = cy.zeros(v.shape()[0],v.dtype(),v.device());\n",
    "\n",
    "        for a in range(v.shape()[0]):\n",
    "\n",
    "            for i in range(self.L):\n",
    "\n",
    "                oid,amp = self.SzSz(i,(i+1)%self.L,a)\n",
    "\n",
    "                out[oid] += amp*self.J*v[a]\n",
    "\n",
    "\n",
    "                oid,amp = self.Sx(i,a)\n",
    "\n",
    "                out[oid] += amp*(-self.Hx)*v[a]\n",
    "\n",
    "        return out\n"
   ]
  },
  {
   "cell_type": "code",
   "execution_count": null,
   "id": "5dc9a3ae",
   "metadata": {},
   "outputs": [],
   "source": [
    "#Does not work, see issue on gitlab\n",
    "L = 4\n",
    "\n",
    "J = -1\n",
    "\n",
    "Hx = 0.3\n",
    "\n",
    "H = Hising(L,J,Hx)\n",
    "\n",
    "v = cy.ones(16)\n",
    "\n",
    "print(cy.linalg.Lanczos_ER(H,3))"
   ]
  },
  {
   "cell_type": "markdown",
   "id": "b3b81279",
   "metadata": {},
   "source": [
    "2. iTEBD"
   ]
  },
  {
   "cell_type": "code",
   "execution_count": null,
   "id": "7f788664",
   "metadata": {},
   "outputs": [],
   "source": [
    "from cytnx import *\n",
    "\n",
    "\n",
    "chi = 10\n",
    "\n",
    "A = UniTensor([Bond(chi),Bond(2),Bond(chi)],labels=[\"a\",\"0\",\"b\"])\n",
    "\n",
    "B = UniTensor(A.bonds(),labels=[\"c\",\"1\",\"d\"])\n",
    "\n",
    "random.Make_normal(B.get_block_(),0,0.2)\n",
    "\n",
    "random.Make_normal(A.get_block_(),0,0.2)\n",
    "\n",
    "A.print_diagram()\n",
    "\n",
    "B.print_diagram()\n",
    "\n",
    "\n",
    "la = UniTensor([Bond(chi),Bond(chi)],rowrank=1,labels=[\"b\",\"c\"],is_diag=True)\n",
    "\n",
    "lb = UniTensor([Bond(chi),Bond(chi)],rowrank=1,labels=[\"d\",\"e\"],is_diag=True)\n",
    "\n",
    "la.put_block(ones(chi))\n",
    "\n",
    "lb.put_block(ones(chi))\n",
    "\n",
    "\n",
    "la.print_diagram()\n",
    "\n",
    "lb.print_diagram()"
   ]
  },
  {
   "cell_type": "code",
   "execution_count": null,
   "id": "5f0470df",
   "metadata": {},
   "outputs": [],
   "source": [
    "J = -1.0\n",
    "\n",
    "Hx = -0.3\n",
    "\n",
    "dt = 0.1\n",
    "\n",
    "\n",
    "## Create single site operator\n",
    "\n",
    "Sz = physics.pauli('z').real()\n",
    "\n",
    "Sx = physics.pauli('x').real()\n",
    "\n",
    "I  = eye(2)\n",
    "\n",
    "print(Sz)\n",
    "\n",
    "print(Sx)\n",
    "\n",
    "\n",
    "\n",
    "## Construct the local Hamiltonian\n",
    "\n",
    "TFterm = linalg.Kron(Sx,I) + linalg.Kron(I,Sx)\n",
    "\n",
    "ZZterm = linalg.Kron(Sz,Sz)\n",
    "\n",
    "H = Hx*TFterm + J*ZZterm\n",
    "\n",
    "print(H)\n",
    "\n",
    "\n",
    "\n",
    "## Build Evolution Operator\n",
    "\n",
    "eH = linalg.ExpH(H,-dt) ## or equivantly ExpH(-dt*H)\n",
    "\n",
    "eH.reshape_(2,2,2,2)\n",
    "\n",
    "U = UniTensor(eH,2)\n",
    "\n",
    "U.print_diagram()"
   ]
  },
  {
   "cell_type": "code",
   "execution_count": null,
   "id": "b8e8b569",
   "metadata": {},
   "outputs": [],
   "source": [
    "A.relabels_([\"a\",\"0\",\"b\"])\n",
    "\n",
    "B.relabels_([\"c\",\"1\",\"d\"])\n",
    "\n",
    "la.relabels_([\"b\",\"c\"])\n",
    "\n",
    "lb.relabels_([\"d\",\"e\"])\n",
    "\n",
    "\n",
    "## contract all\n",
    "\n",
    "X = cytnx.Contract(cytnx.Contract(A,la),cytnx.Contract(B,lb))\n",
    "\n",
    "lb_l = lb.relabel(\"e\",\"a\")\n",
    "\n",
    "X = cytnx.Contract(lb_l,X)\n",
    "\n",
    "\n",
    "Xt = X.clone()\n",
    "\n",
    "\n",
    "## calculate norm and energy for this step\n",
    "\n",
    "# Note that X,Xt contract will result a rank-0 tensor, which can use item() toget element\n",
    "\n",
    "XNorm = cytnx.Contract(X,Xt).item()\n",
    "\n",
    "XH = cytnx.Contract(X,H)\n",
    "\n",
    "XH.relabels_([\"d\",\"e\",\"0\",\"1\"])\n",
    "\n",
    "XHX = cytnx.Contract(Xt,XH).item() ## rank-0\n",
    "\n",
    "E = XHX/XNorm\n",
    "\n",
    "\n",
    "## check if converged.\n",
    "\n",
    "if(np.abs(E-Elast) < CvgCrit):\n",
    "\n",
    "    print(\"[Converged!]\")\n",
    "\n",
    "    break\n",
    "\n",
    "print(\"Step: %d Enr: %5.8f\"%(i,Elast))\n",
    "\n",
    "Elast = E"
   ]
  },
  {
   "cell_type": "code",
   "execution_count": null,
   "id": "42caf111",
   "metadata": {},
   "outputs": [],
   "source": [
    "XeH = cytnx.Contract(X,eH)\n",
    "\n",
    "XeH.permute_([\"d\",\"2\",\"3\",\"e\"])\n",
    "\n",
    "\n",
    "XeH.set_rowrank(2)\n",
    "\n",
    "la,A,B = cytnx.linalg.Svd_truncate(XeH,chi)\n",
    "\n",
    "la.normalize_()"
   ]
  },
  {
   "cell_type": "code",
   "execution_count": null,
   "id": "d338bfe4",
   "metadata": {},
   "outputs": [],
   "source": [
    "lb_inv = 1./lb\n",
    "\n",
    "\n",
    "lb_inv.relabels_([\"e\",\"d\"])\n",
    "\n",
    "A = cytnx.Contract(lb_inv,A)\n",
    "\n",
    "B = cytnx.Contract(B,lb_inv)\n",
    "\n",
    "\n",
    "# translation symmetry, exchange A and B site\n",
    "\n",
    "A,B = B,A\n",
    "\n",
    "la,lb = lb,la"
   ]
  },
  {
   "cell_type": "code",
   "execution_count": null,
   "id": "0446df32",
   "metadata": {},
   "outputs": [],
   "source": [
    "for i in range(10000):\n",
    "\n",
    "\n",
    "    A.relabels_(['a','0','b'])\n",
    "\n",
    "    B.relabels_(['c','1','d'])\n",
    "\n",
    "    la.relabels_(['b','c'])\n",
    "\n",
    "    lb.relabels_(['d','e'])\n",
    "\n",
    "\n",
    "    ## contract all\n",
    "\n",
    "    X = cytnx.Contract(cytnx.Contract(A,la),cytnx.Contract(B,lb))\n",
    "\n",
    "    lb_l = lb.relabel(\"e\",\"a\")\n",
    "\n",
    "    X = cytnx.Contract(lb_l,X)\n",
    "\n",
    "\n",
    "\n",
    "    ## X =\n",
    "\n",
    "    #           (0)  (1)\n",
    "\n",
    "    #            |    |\n",
    "\n",
    "    #  (-4) --lb-A-la-B-lb-- (-5)\n",
    "\n",
    "    #\n",
    "\n",
    "    #X.print_diagram()\n",
    "\n",
    "\n",
    "    Xt = X.clone()\n",
    "\n",
    "\n",
    "    ## calculate norm and energy for this step\n",
    "\n",
    "    # Note that X,Xt contract will result a rank-0 tensor, which can use item() toget element\n",
    "\n",
    "    XNorm = cytnx.Contract(X,Xt).item()\n",
    "\n",
    "    XH = cytnx.Contract(X,H)\n",
    "\n",
    "    XH.relabels_(['d','e','0','1'])\n",
    "\n",
    "\n",
    "    XHX = cytnx.Contract(Xt,XH).item() ## rank-0\n",
    "\n",
    "    E = XHX/XNorm\n",
    "\n",
    "\n",
    "    ## check if converged.\n",
    "\n",
    "    if(np.abs(E-Elast) < CvgCrit):\n",
    "\n",
    "        print(\"[Converged!]\")\n",
    "\n",
    "        break\n",
    "\n",
    "    print(\"Step: %d Enr: %5.8f\"%(i,Elast))\n",
    "\n",
    "    Elast = E\n",
    "\n",
    "\n",
    "    ## Time evolution the MPS\n",
    "\n",
    "    XeH = cytnx.Contract(X,eH)\n",
    "\n",
    "    XeH.permute_(['d','2','3','e'])\n",
    "\n",
    "    #XeH.print_diagram()\n",
    "\n",
    "\n",
    "    ## Do Svd + truncate\n",
    "\n",
    "    ##\n",
    "\n",
    "    #        (2)   (3)                   (2)                                               (3)\n",
    "\n",
    "    #         |     |          =>         |            + (_aux_L)--s--(_aux_R)  +           |\n",
    "\n",
    "    #  (d) --= XeH =-- (e)           (d)--U--(_aux_L)                             (_aux_R)--Vt--(e)\n",
    "\n",
    "    #\n",
    "\n",
    "\n",
    "    XeH.set_rowrank(2)\n",
    "\n",
    "    la,A,B = cytnx.linalg.Svd_truncate(XeH,chi)\n",
    "\n",
    "    la.normalize_()\n",
    "\n",
    "\n",
    "\n",
    "    # de-contract the lb tensor , so it returns to\n",
    "\n",
    "    #             2     3\n",
    "\n",
    "    #             |     |\n",
    "\n",
    "    #       d--lb-A'-la-B'-lb--e\n",
    "\n",
    "    #\n",
    "\n",
    "    # again, but A' and B' are updated\n",
    "\n",
    "    lb_inv = 1./lb\n",
    "\n",
    "    # lb_inv.print_diagram();\n",
    "\n",
    "    lb_inv.relabels_(['e','d'])\n",
    "\n",
    "\n",
    "    A = cytnx.Contract(lb_inv,A)\n",
    "\n",
    "    B = cytnx.Contract(B,lb_inv)\n",
    "\n",
    "\n",
    "    # translation symmetry, exchange A and B site\n",
    "\n",
    "    A,B = B,A\n",
    "\n",
    "    la,lb = lb,la"
   ]
  },
  {
   "cell_type": "markdown",
   "id": "fb150e3b",
   "metadata": {},
   "source": [
    "3. DMRG"
   ]
  },
  {
   "cell_type": "code",
   "execution_count": null,
   "id": "44728329",
   "metadata": {},
   "outputs": [],
   "source": [
    "d = 2 #physical dimension\n",
    "\n",
    "s = 0.5 #spin-half\n",
    "\n",
    "\n",
    "sx = cytnx.physics.spin(0.5,'x')\n",
    "\n",
    "sy = cytnx.physics.spin(0.5,'y')\n",
    "\n",
    "sp = sx+1j*sy\n",
    "\n",
    "sm = sx-1j*sy\n",
    "\n",
    "\n",
    "eye = cytnx.eye(d)\n",
    "\n",
    "M = cytnx.zeros([4, 4, d, d])\n",
    "\n",
    "M[0,0] = M[3,3] = eye\n",
    "\n",
    "M[0,1] = M[2,3] = 2**0.5*sp.real()\n",
    "\n",
    "M[0,2] = M[1,3] = 2**0.5*sm.real()\n",
    "\n",
    "M = cytnx.UniTensor(M,0)\n",
    "\n",
    "\n",
    "L0 = cytnx.UniTensor(cytnx.zeros([4,1,1]),0) #Left boundary\n",
    "\n",
    "R0 = cytnx.UniTensor(cytnx.zeros([4,1,1]),0) #Right boundary\n",
    "\n",
    "L0.get_block_()[0,0,0] = 1.; R0.get_block_()[3,0,0] = 1."
   ]
  },
  {
   "cell_type": "code",
   "execution_count": null,
   "id": "bbe00913",
   "metadata": {},
   "outputs": [],
   "source": [
    "M.print_diagram()\n",
    "\n",
    "L0.print_diagram()\n",
    "\n",
    "R0.print_diagram()"
   ]
  },
  {
   "cell_type": "code",
   "execution_count": null,
   "id": "2f174409",
   "metadata": {},
   "outputs": [],
   "source": [
    "# MPS, chi is virtual bond dimension\n",
    "\n",
    "chi = 32\n",
    "\n",
    "Nsites = 20\n",
    "\n",
    "\n",
    "A = [None for i in range(Nsites)]\n",
    "\n",
    "A[0] = cytnx.UniTensor(cytnx.random.normal([1, d, min(chi, d)], 0., 1.),2)\n",
    "\n",
    "for k in range(1,Nsites):\n",
    "\n",
    "    dim1 = A[k-1].shape()[2]; dim2 = d;\n",
    "\n",
    "    dim3 = min(min(chi, A[k-1].shape()[2] * d), d ** (Nsites - k - 1));\n",
    "\n",
    "    A[k] = cytnx.UniTensor(cytnx.random.normal([dim1, dim2, dim3],0.,1.),2)\n",
    "\n",
    "    A[k].relabels_([2*k,2*k+1,2*k+2])\n",
    "\n"
   ]
  },
  {
   "cell_type": "markdown",
   "id": "79cb0b5c",
   "metadata": {},
   "source": [
    "L_AMAH.net:"
   ]
  },
  {
   "cell_type": "markdown",
   "id": "613d4c1c",
   "metadata": {},
   "source": [
    "L: ;-2,-1,-3\n",
    "\n",
    "A: -1,-4;1\n",
    "\n",
    "M: ;-2,0,-4,-5\n",
    "\n",
    "A_Conj: -3,-5;2\n",
    "\n",
    "TOUT: ;0,1,2"
   ]
  },
  {
   "cell_type": "code",
   "execution_count": null,
   "id": "9cddc9bc",
   "metadata": {},
   "outputs": [],
   "source": [
    "LR = [None for i in range(Nsites+1)]\n",
    "\n",
    "LR[0]  = L0\n",
    "\n",
    "LR[-1] = R0\n",
    "\n",
    "\n",
    "for p in range(Nsites - 1):\n",
    "\n",
    "\n",
    "    ## canonical form:\n",
    "\n",
    "    s, A[p] ,vt = cytnx.linalg.Svd(A[p])\n",
    "\n",
    "    A[p+1] = cytnx.Contract(cytnx.Contract(s,vt),A[p+1])\n",
    "\n",
    "\n",
    "    ## calculate enviroments:\n",
    "\n",
    "    anet = cytnx.Network(\"L_AMAH.net\")\n",
    "\n",
    "    anet.PutUniTensors([\"L\",\"A\",\"A_Conj\",\"M\"],[LR[p],A[p],A[p].Conj(),M],is_clone=False);\n",
    "\n",
    "    LR[p+1] = anet.Launch(optimal=True);\n",
    "\n",
    "\n",
    "_,A[-1] = cytnx.linalg.Svd(A[-1],is_U=True,is_vT=False) ## last one."
   ]
  },
  {
   "cell_type": "code",
   "execution_count": null,
   "id": "5e173e7e",
   "metadata": {},
   "outputs": [],
   "source": [
    "numsweeps = 4 # number of DMRG sweeps\n",
    "\n",
    "maxit = 2 # iterations of Lanczos method\n",
    "\n",
    "krydim = 4 # dimension of Krylov subspace\n",
    "\n",
    "\n",
    "for p in range(Nsites-2,-1,-1):\n",
    "\n",
    "\n",
    "\n",
    "    ## trial state from last iteraction:\n",
    "\n",
    "\n",
    "    dim_l = A[p].shape()[0];\n",
    "\n",
    "    dim_r = A[p+1].shape()[2];\n",
    "\n",
    "\n",
    "    psi = cytnx.Contract(A[p],A[p+1]) # contract\n",
    "\n",
    "\n",
    "    lbl = psi.labels() ## memorize label\n",
    "\n",
    "    psi_T = psi.get_block_();\n",
    "\n",
    "    psi_T.flatten_() ## flatten to 1d\n",
    "\n",
    "\n",
    "    ## perform Lanczos to get the optimized state\n",
    "\n",
    "    psi_T, Entemp = optimize_psi(psi_T, (LR[p],M,M,LR[p+2]), maxit, krydim)\n",
    "\n",
    "    psi_T.reshape_(dim_l,d,d,dim_r) ## convert psi back to 4-leg form\n",
    "\n",
    "    psi = cytnx.UniTensor(psi_T,2);\n",
    "\n",
    "    psi.relabels_(lbl);\n",
    "\n",
    "    Ekeep.append(Entemp);\n",
    "\n",
    "\n",
    "    ## truncate the two-site state into MPS form\n",
    "\n",
    "    ## with capped intermediate virtual bond dimension\n",
    "\n",
    "    new_dim = min(dim_l*d, dim_r*d,chi)\n",
    "\n",
    "    s,A[p],A[p+1] = cytnx.linalg.Svd_truncate(psi,new_dim)\n",
    "\n",
    "\n",
    "    slabel = s.labels()\n",
    "\n",
    "    s = s/s.get_block_().Norm().item()\n",
    "\n",
    "    s.relabels_(slabel)\n",
    "\n",
    "\n",
    "    A[p] = cytnx.Contract(A[p],s) ## absorb s into next neighbor\n",
    "\n",
    "\n",
    "    # update LR from right to left:\n",
    "\n",
    "    anet = cytnx.Network(\"R_AMAH.net\")\n",
    "\n",
    "    anet.PutUniTensors([\"R\",\"B\",\"M\",\"B_Conj\"],[LR[p+2],A[p+1],M,A[p+1].Conj()],is_clone=False)\n",
    "\n",
    "    LR[p+1] = anet.Launch(optimal=True)\n",
    "\n",
    "\n",
    "    print('Sweep[r->l]: %d/%d, Loc:%d,Energy: %f'%(k,numsweeps,p,Ekeep[-1]))\n",
    "\n",
    "\n",
    "A[0].set_rowrank(1)\n",
    "\n",
    "_,A[0] = cytnx.linalg.Svd(A[0],is_U=False, is_vT=True)"
   ]
  },
  {
   "cell_type": "markdown",
   "id": "819f9862",
   "metadata": {},
   "source": [
    "projector.net:"
   ]
  },
  {
   "cell_type": "markdown",
   "id": "cf0265da",
   "metadata": {},
   "source": [
    "psi: ;-1,-2,-3,-4\n",
    "\n",
    "L: ;-5,-1,0\n",
    "\n",
    "R: ;-7,-4,3\n",
    "\n",
    "M1: ;-5,-6,-2,1\n",
    "\n",
    "M2: ;-6,-7,-3,2\n",
    "\n",
    "TOUT: ;0,1,2,3"
   ]
  },
  {
   "cell_type": "code",
   "execution_count": null,
   "id": "ac04a469",
   "metadata": {},
   "outputs": [],
   "source": [
    "class Hxx(cytnx.LinOp):\n",
    "\n",
    "\n",
    "    def __init__(self, anet, shapes, psidim):\n",
    "\n",
    "        cytnx.LinOp.__init__(self,\"mv\", psidim, cytnx.Type.Double, cytnx.Device.cpu)\n",
    "\n",
    "        self.anet = anet\n",
    "\n",
    "        self.shapes = shapes\n",
    "\n",
    "\n",
    "    def matvec(self, v):\n",
    "\n",
    "        v_ = v.clone()\n",
    "\n",
    "        psi_u = cytnx.UniTensor(v_, 0) ## share memory, no copy\n",
    "\n",
    "        psi_u.reshape_(*self.shapes)\n",
    "\n",
    "        self.anet.PutUniTensor(\"psi\",psi_u,False);\n",
    "\n",
    "        out = self.anet.Launch(optimal=True).get_block_() # get_block_ without copy\n",
    "\n",
    "        out.flatten_() ## only change meta, without copy.\n",
    "\n",
    "        return out"
   ]
  },
  {
   "cell_type": "code",
   "execution_count": null,
   "id": "a90a3bd3",
   "metadata": {},
   "outputs": [],
   "source": [
    "def optimize_psi(psivec, functArgs, maxit=2, krydim=4):\n",
    "\n",
    "\n",
    "    L,M1,M2,R = functArgs\n",
    "\n",
    "    pshape = [L.shape()[1],M1.shape()[2],M2.shape()[2],R.shape()[1]]\n",
    "\n",
    "\n",
    "    anet = cytnx.Network(\"projector.net\")\n",
    "\n",
    "    anet.PutUniTensor(\"M2\",M2)\n",
    "\n",
    "    anet.PutUniTensors([\"L\",\"M1\",\"R\"],[L,M1,R],False)\n",
    "\n",
    "\n",
    "    H = Hxx(anet, pshape, len(psivec))\n",
    "\n",
    "    energy, psivec = cytnx.linalg.Lanczos_ER(H, maxiter = 4, CvgCrit = 9999999999, Tin = psivec, max_krydim = krydim)\n",
    "\n",
    "\n",
    "    return psivec, energy[0].item()"
   ]
  },
  {
   "cell_type": "code",
   "execution_count": null,
   "id": "3680e979",
   "metadata": {},
   "outputs": [],
   "source": [
    "     \n",
    "\n",
    "new_dim = min(dim_l*d, dim_r*d,chi)\n",
    "\n",
    "s,A[p],A[p+1] = cytnx.linalg.Svd_truncate(psi, new_dim)\n",
    "\n",
    "\n",
    "slabel = s.labels()\n",
    "\n",
    "s = s/s.get_block_().Norm().item()\n",
    "\n",
    "s.relabels_(slabel)\n",
    "\n",
    "\n",
    "A[p] = cytnx.Contract(A[p],s) ## absorb s into next neighbor"
   ]
  },
  {
   "cell_type": "markdown",
   "id": "bf591466",
   "metadata": {},
   "source": [
    "R_AMAH.net:"
   ]
  },
  {
   "cell_type": "markdown",
   "id": "885a492f",
   "metadata": {},
   "source": [
    "R: ;-2,-1,-3\n",
    "\n",
    "B: 1;-4,-1\n",
    "\n",
    "M: ;0,-2,-4,-5\n",
    "\n",
    "B_Conj: 2;-5,-3\n",
    "\n",
    "TOUT: ;0,1,2"
   ]
  },
  {
   "cell_type": "code",
   "execution_count": null,
   "id": "86806ee2",
   "metadata": {},
   "outputs": [],
   "source": [
    "A[0].set_rowrank(1)\n",
    "\n",
    "_,A[0] = cytnx.linalg.Svd(A[0],is_U=False, is_vT=True)"
   ]
  },
  {
   "cell_type": "code",
   "execution_count": null,
   "id": "e8050d21",
   "metadata": {},
   "outputs": [],
   "source": [
    "## DMRG sweep\n",
    "\n",
    "##>>>>>>>>>>>>>>>>>>>>>>>>>>>>>>>>>>>>>>>>>>>>>>>>>>>>>>>>>>>>>>>>>\n",
    "\n",
    "\n",
    "Ekeep = []\n",
    "\n",
    "\n",
    "for k in range(1, numsweeps+2):\n",
    "\n",
    "\n",
    "    for p in range(Nsites-2,-1,-1):\n",
    "\n",
    "        #print(p)\n",
    "\n",
    "\n",
    "        dim_l = A[p].shape()[0];\n",
    "\n",
    "        dim_r = A[p+1].shape()[2];\n",
    "\n",
    "\n",
    "\n",
    "        psi = cytnx.Contract(A[p],A[p+1]) ## contract\n",
    "\n",
    "\n",
    "        lbl = psi.labels() ## memorize label\n",
    "\n",
    "        psi_T = psi.get_block_(); psi_T.flatten_() ## flatten to 1d\n",
    "\n",
    "\n",
    "        psi_T, Entemp = optimize_psi(psi_T, (LR[p],M,M,LR[p+2]), maxit, krydim)\n",
    "\n",
    "        psi_T.reshape_(dim_l,d,d,dim_r) ## convert psi back to 4-leg form\n",
    "\n",
    "        psi = cytnx.UniTensor(psi_T,2);\n",
    "\n",
    "        psi.relabels_(lbl);\n",
    "\n",
    "        Ekeep.append(Entemp);\n",
    "\n",
    "\n",
    "        new_dim = min(dim_l*d,dim_r*d,chi)\n",
    "\n",
    "\n",
    "        s,A[p],A[p+1] = cytnx.linalg.Svd_truncate(psi,new_dim)\n",
    "\n",
    "\n",
    "        # s = s.Div(s.get_block_().Norm().item())\n",
    "\n",
    "        # s.Div_(s.get_block_().Norm().item()) // a bug : cannot use\n",
    "\n",
    "        slabel = s.labels()\n",
    "\n",
    "        s = s/s.get_block_().Norm().item()\n",
    "\n",
    "        s.relabels_(slabel)\n",
    "\n",
    "\n",
    "\n",
    "        A[p] = cytnx.Contract(A[p],s) ## absorb s into next neighbor\n",
    "\n",
    "\n",
    "        # A[p].print_diagram()\n",
    "\n",
    "        # A[p+1].print_diagram()\n",
    "\n",
    "\n",
    "        # update LR from right to left:\n",
    "\n",
    "        anet = cytnx.Network(\"R_AMAH.net\")\n",
    "\n",
    "        anet.PutUniTensors([\"R\",\"B\",\"M\",\"B_Conj\"],[LR[p+2],A[p+1],M,A[p+1].Conj()],is_clone=False)\n",
    "\n",
    "        LR[p+1] = anet.Launch(optimal=True)\n",
    "\n",
    "\n",
    "        print('Sweep[r->l]: %d/%d, Loc:%d,Energy: %f'%(k,numsweeps,p,Ekeep[-1]))\n",
    "\n",
    "\n",
    "    A[0].set_rowrank(1)\n",
    "\n",
    "    _,A[0] = cytnx.linalg.Svd(A[0],is_U=False, is_vT=True)\n",
    "\n",
    "\n",
    "\n",
    "    for p in range(Nsites-1):\n",
    "\n",
    "        dim_l = A[p].shape()[0]\n",
    "\n",
    "        dim_r = A[p+1].shape()[2]\n",
    "\n",
    "\n",
    "        psi = cytnx.Contract(A[p],A[p+1]) ## contract\n",
    "\n",
    "        lbl = psi.labels() ## memorize label\n",
    "\n",
    "        psi_T = psi.get_block_(); psi_T.flatten_() ## flatten to 1d\n",
    "\n",
    "        psi_T, Entemp = optimize_psi(psi_T, (LR[p],M,M,LR[p+2]), maxit, krydim)\n",
    "\n",
    "        psi_T.reshape_(dim_l,d,d,dim_r)## convert psi back to 4-leg form\n",
    "\n",
    "        psi = cytnx.UniTensor(psi_T,2); psi.relabels_(lbl);\n",
    "\n",
    "        Ekeep.append(Entemp);\n",
    "\n",
    "\n",
    "        new_dim = min(dim_l*d,dim_r*d,chi)\n",
    "\n",
    "\n",
    "        s,A[p],A[p+1] = cytnx.linalg.Svd_truncate(psi,new_dim)\n",
    "\n",
    "\n",
    "        # s = s/s.get_block_().Norm().item()\n",
    "\n",
    "        slabel = s.labels()\n",
    "\n",
    "        s = s/s.get_block_().Norm().item()\n",
    "\n",
    "        s.relabels_(slabel)\n",
    "\n",
    "\n",
    "        A[p+1] = cytnx.Contract(s,A[p+1]) ## absorb s into next neighbor.\n",
    "\n",
    "\n",
    "        anet = cytnx.Network(\"L_AMAH.net\")\n",
    "\n",
    "        anet.PutUniTensors([\"L\",\"A\",\"A_Conj\",\"M\"],[LR[p],A[p],A[p].Conj(),M],is_clone=False);\n",
    "\n",
    "        LR[p+1] = anet.Launch(optimal=True);\n",
    "\n",
    "\n",
    "        print('Sweep[l->r]: %d of %d, Loc: %d,Energy: %f' % (k, numsweeps, p, Ekeep[-1]))\n",
    "\n",
    "\n",
    "    A[-1].set_rowrank(2)\n",
    "\n",
    "    _,A[-1] = cytnx.linalg.Svd(A[-1],is_U=True,is_vT=False) ## last one.\n",
    "\n",
    "    print('done : %d'% k)\n",
    "\n"
   ]
  },
  {
   "cell_type": "code",
   "execution_count": null,
   "id": "1cc69d78",
   "metadata": {},
   "outputs": [],
   "source": [
    "#### Compare with exact results (computed from free fermions)\n",
    "\n",
    "from numpy import linalg as LA\n",
    "\n",
    "# import matplotlib.pyplot as plt\n",
    "\n",
    "H = np.diag(np.ones(Nsites-1),k=1) + np.diag(np.ones(Nsites-1),k=-1)\n",
    "\n",
    "D = LA.eigvalsh(H)\n",
    "\n",
    "EnExact = 2*sum(D[D < 0])\n",
    "\n",
    "\n",
    "##### Plot results\n",
    "\n",
    "plt.figure(1)\n",
    "\n",
    "plt.yscale('log')\n",
    "\n",
    "plt.plot(range(len(Ekeep)), np.array(Ekeep) - EnExact, 'b', label=\"chi = %d\"%(chi), marker = 'o')\n",
    "\n",
    "plt.legend()\n",
    "\n",
    "plt.title('DMRG for XX model')\n",
    "\n",
    "plt.xlabel('Update Step')\n",
    "\n",
    "plt.ylabel('Ground Energy Error')\n",
    "\n",
    "plt.show()"
   ]
  },
  {
   "cell_type": "markdown",
   "id": "c1cd551a",
   "metadata": {},
   "source": [
    "4. iDMRG"
   ]
  },
  {
   "cell_type": "code",
   "execution_count": null,
   "id": "127ec26e",
   "metadata": {},
   "outputs": [],
   "source": [
    "J  = 1.0\n",
    "\n",
    "Hx = 1.0\n",
    "\n",
    "\n",
    "d = 2\n",
    "\n",
    "sx = cytnx.physics.pauli('x').real()\n",
    "\n",
    "sz = cytnx.physics.pauli('z').real()\n",
    "\n",
    "eye = cytnx.eye(d)\n",
    "\n",
    "M = cytnx.zeros([3, 3, d, d])\n",
    "\n",
    "M[0,0] = M[2,2] = eye\n",
    "\n",
    "M[0,1] = M[1,2] = sz\n",
    "\n",
    "M[0,2] = 2*Hx*sx\n",
    "\n",
    "M = cytnx.UniTensor(M,rowrank=0)\n",
    "\n",
    "\n",
    "L0 = cytnx.UniTensor(cytnx.zeros([3,1,1]),rowrank=0) #Left boundary\n",
    "\n",
    "R0 = cytnx.UniTensor(cytnx.zeros([3,1,1]),rowrank=0) #Right boundary\n",
    "\n",
    "L0.get_block_()[0,0,0] = 1.; R0.get_block_()[2,0,0] = 1.;\n",
    "\n",
    "\n",
    "L = L0\n",
    "\n",
    "R = R0\n",
    "\n"
   ]
  },
  {
   "cell_type": "code",
   "execution_count": null,
   "id": "dd67c9fc",
   "metadata": {},
   "outputs": [],
   "source": [
    "class Projector(cytnx.LinOp):\n",
    "\n",
    "\n",
    "\n",
    "\n",
    "    def __init__(self,L,M1,M2,R,psi_dim,psi_dtype,psi_device):\n",
    "\n",
    "        cytnx.LinOp.__init__(self,\"mv\",psi_dim,psi_dtype,psi_device)\n",
    "\n",
    "\n",
    "        self.anet = cytnx.Network(\"projector.net\")\n",
    "\n",
    "        self.anet.PutUniTensor(\"M2\",M2)\n",
    "\n",
    "        self.anet.PutUniTensors([\"L\",\"M1\",\"R\"],[L,M1,R])\n",
    "\n",
    "        self.psi_shape = [L.shape()[1],M1.shape()[2],M2.shape()[2],R.shape()[1]]\n",
    "\n",
    "\n",
    "    def matvec(self,psi):\n",
    "\n",
    "\n",
    "        psi_p = cytnx.UniTensor(psi.clone(),rowrank=0)  ## clone here\n",
    "\n",
    "        psi_p.reshape_(*self.psi_shape)\n",
    "\n",
    "\n",
    "        self.anet.PutUniTensor(\"psi\",psi_p)\n",
    "\n",
    "        H_psi = self.anet.Launch(optimal=True).get_block_() # get_block_ without copy\n",
    "\n",
    "\n",
    "        H_psi.flatten_()\n",
    "\n",
    "        return H_psi\n",
    "\n",
    "\n",
    "\n",
    "\n",
    "def eig_Lanczos(psivec, functArgs, Cvgcrit=1.0e-15,maxit=100000):\n",
    "\n",
    "    \"\"\" Lanczos method for finding smallest algebraic eigenvector of linear \\\n",
    "\n",
    "    operator defined as a function\"\"\"\n",
    "\n",
    "    #print(eig_Lanczos)\n",
    "\n",
    "\n",
    "    Hop = Projector(*functArgs,psivec.shape()[0],psivec.dtype(),psivec.device())\n",
    "\n",
    "    gs_energy ,psivec = cytnx.linalg.Lanczos(Hop,Tin=psivec,method='Gnd',CvgCrit=Cvgcrit,Maxiter=maxit)\n",
    "\n",
    "\n",
    "    return psivec, gs_energy.item()"
   ]
  },
  {
   "cell_type": "code",
   "execution_count": null,
   "id": "67e4b5ea",
   "metadata": {},
   "outputs": [],
   "source": [
    "psi = cytnx.UniTensor(cytnx.random.normal([1,d,d,1],1,2),rowrank=2)\n",
    "\n",
    "shp = psi.shape()\n",
    "\n",
    "psi_T = psi.get_block_(); psi_T.flatten_() ## flatten to 1d\n",
    "\n",
    "psi_T, Entemp = eig_Lanczos(psi_T, (L,M,M,R), maxit=maxit);\n",
    "\n",
    "psi_T.reshape_(*shp)\n",
    "\n",
    "psi = cytnx.UniTensor(psi_T,rowrank=2)\n",
    "\n",
    "\n",
    "s0,A,B = cytnx.linalg.Svd_truncate(psi,min(chi,d)) ## Svd\n",
    "\n",
    "s0/=s0.get_block_().Norm().item() ## normalize"
   ]
  },
  {
   "cell_type": "code",
   "execution_count": null,
   "id": "c2c4718b",
   "metadata": {},
   "outputs": [],
   "source": [
    "anet = cytnx.Network(\"L_AMAH.net\")\n",
    "\n",
    "anet.PutUniTensors([\"L\",\"A\",\"A_Conj\",\"M\"],[L,A,A.Conj(),M]);\n",
    "\n",
    "L = anet.Launch(optimal=True)\n",
    "\n",
    "anet = cytnx.Network(\"R_AMAH.net\")\n",
    "\n",
    "anet.PutUniTensors([\"R\",\"B\",\"B_Conj\",\"M\"],[R,B,B.Conj(),M]);\n",
    "\n",
    "R = anet.Launch(optimal=True)"
   ]
  },
  {
   "cell_type": "code",
   "execution_count": null,
   "id": "43b5505b",
   "metadata": {},
   "outputs": [],
   "source": [
    "## Construct n = 1\n",
    "\n",
    "psi = cytnx.UniTensor(cytnx.random.normal([d,d,d,d],0,2),rowrank=2)\n",
    "\n",
    "shp = psi.shape()\n",
    "\n",
    "psi_T = psi.get_block_(); psi_T.flatten_() ## flatten to 1d\n",
    "\n",
    "psi_T, Entemp = eig_Lanczos(psi_T, (L,M,M,R), maxit=maxit);\n",
    "\n",
    "psi_T.reshape_(*shp)\n",
    "\n",
    "psi = cytnx.UniTensor(psi_T,rowrank=2)\n",
    "\n",
    "s1,A,B = cytnx.linalg.Svd_truncate(psi,min(chi,d*d))\n",
    "\n",
    "s1/=s1.get_block_().Norm().item()"
   ]
  },
  {
   "cell_type": "code",
   "execution_count": null,
   "id": "22119a56",
   "metadata": {},
   "outputs": [],
   "source": [
    "# absorb A[1], B[1] to left & right enviroment.\n",
    "\n",
    "anet = cytnx.Network(\"L_AMAH.net\")\n",
    "\n",
    "anet.PutUniTensors([\"L\",\"A\",\"A_Conj\",\"M\"],[L,A,A.Conj(),M]);\n",
    "\n",
    "L = anet.Launch(optimal=True)\n",
    "\n",
    "anet = cytnx.Network(\"R_AMAH.net\")\n",
    "\n",
    "anet.PutUniTensors([\"R\",\"B\",\"B_Conj\",\"M\"],[R,B,B.Conj(),M]);\n",
    "\n",
    "R = anet.Launch(optimal=True)"
   ]
  },
  {
   "cell_type": "code",
   "execution_count": null,
   "id": "5f25041e",
   "metadata": {},
   "outputs": [],
   "source": [
    "## rotate left\n",
    "\n",
    "A.set_rowrank(1)\n",
    "\n",
    "# set the label '_aux_R' to another to avoid Svd error\n",
    "\n",
    "sR,_,A = cytnx.linalg.Svd(cytnx.Contract(A, s1).set_label(2, '-2'))\n",
    "\n",
    "\n",
    "## rotate right\n",
    "\n",
    "B.set_rowrank(2)\n",
    "\n",
    "# set the label '_aux_L' to another to avoid Svd error\n",
    "\n",
    "sL,B,_ = cytnx.linalg.Svd(cytnx.Contract(s1, B).set_label(0, '-1'))\n",
    "\n",
    "\n",
    "## now, we change it just to be consistent with the notation in the paper\n",
    "\n",
    "#\n",
    "\n",
    "#  before:\n",
    "\n",
    "#    env-- B'--sL    sR--A' --env\n",
    "\n",
    "#          |             |\n",
    "\n",
    "#\n",
    "\n",
    "#  after change name:\n",
    "\n",
    "#\n",
    "\n",
    "#    env-- A--sL     sR--B  --env\n",
    "\n",
    "#          |             |\n",
    "\n",
    "#\n",
    "\n",
    "A,B = B,A"
   ]
  },
  {
   "cell_type": "code",
   "execution_count": null,
   "id": "ecced7a6",
   "metadata": {},
   "outputs": [],
   "source": [
    "sR.set_label(0,'1')\n",
    "\n",
    "sL.set_label(1,'0')\n",
    "\n",
    "s0 = 1./s0\n",
    "\n",
    "s0.set_labels(['0','1'])\n",
    "\n",
    "s2 = cytnx.Contract(cytnx.Contract(sL,s0),sR)\n",
    "\n",
    "\n",
    "s2.set_labels(['-10','-11'])\n",
    "\n",
    "A.set_label(2,'-10')\n",
    "\n",
    "B.set_label(0,'-11')\n",
    "\n",
    "psi = cytnx.Contract(cytnx.Contract(A,s2),B)\n",
    "\n",
    "\n",
    "## optimize wave function:\n",
    "\n",
    "#  again use Lanczos to get the (local) ground state.\n",
    "\n",
    "\n",
    "shp = psi.shape()\n",
    "\n",
    "psi_T = psi.get_block_(); psi_T.flatten_() ## flatten to 1d\n",
    "\n",
    "psi_T, Entemp = eig_Lanczos(psi_T, (L,M,M,R), maxit=maxit);\n",
    "\n",
    "psi_T.reshape_(*shp)\n",
    "\n",
    "psi = cytnx.UniTensor(psi_T,rowrank=2)\n",
    "\n",
    "s2,A,B = cytnx.linalg.Svd_truncate(psi,min(chi,psi.shape()[0]*psi.shape()[1]))\n",
    "\n",
    "s2/=s2.get_block_().Norm().item()"
   ]
  },
  {
   "cell_type": "code",
   "execution_count": null,
   "id": "fb6deea2",
   "metadata": {},
   "outputs": [],
   "source": [
    "if(s2.get_block_().shape()[0] != s1.get_block_().shape()[0]):\n",
    "\n",
    "    ss = 0\n",
    "\n",
    "    print(\"step:%d, increasing bond dim!! dim: %d/%d\"%(i,s1.get_block_().shape()[0],chi))\n",
    "\n",
    "else:\n",
    "\n",
    "    ss = abs(cytnx.linalg.Dot(s2.get_block_(),s1.get_block_()).item())\n",
    "\n",
    "    print(\"step:%d, diff:%11.11f\"%(i,1-ss))\n",
    "\n",
    "if(1-ss<1.0e-10):\n",
    "\n",
    "    print(\"[converge!!]\")\n",
    "\n",
    "    break;"
   ]
  },
  {
   "cell_type": "code",
   "execution_count": null,
   "id": "f4906447",
   "metadata": {},
   "outputs": [],
   "source": [
    "anet = cytnx.Network(\"L_AMAH.net\")\n",
    "\n",
    "anet.PutUniTensors([\"L\",\"A\",\"A_Conj\",\"M\"],[L,A,A.Conj(),M]);\n",
    "\n",
    "L = anet.Launch(optimal=True)\n",
    "\n",
    "\n",
    "anet = cytnx.Network(\"R_AMAH.net\")\n",
    "\n",
    "anet.PutUniTensors([\"R\",\"B\",\"B_Conj\",\"M\"],[R,B,B.Conj(),M]);\n",
    "\n",
    "R = anet.Launch(optimal=True)\n",
    "\n",
    "\n",
    "s0 = s1\n",
    "\n",
    "s1 = s2"
   ]
  },
  {
   "cell_type": "code",
   "execution_count": null,
   "id": "96b43a42",
   "metadata": {},
   "outputs": [],
   "source": [
    "H = J*cytnx.linalg.Kron(sz,sz) + Hx*(cytnx.linalg.Kron(sx,eye) + cytnx.linalg.Kron(eye,sx))\n",
    "\n",
    "H = cytnx.UniTensor(H.reshape(2,2,2,2),rowrank=2)\n",
    "\n",
    "\n",
    "# use the converged state to get the local energy:\n",
    "\n",
    "anet = cytnx.Network(\"Measure.net\")\n",
    "\n",
    "anet.PutUniTensors([\"psi\",\"psi_conj\",\"M\"],[psi,psi,H])\n",
    "\n",
    "E = anet.Launch(optimal=True).item()\n",
    "\n",
    "print(\"ground state E\",E)"
   ]
  },
  {
   "cell_type": "markdown",
   "id": "7ac1c277",
   "metadata": {},
   "source": [
    "5. HOTRG"
   ]
  },
  {
   "cell_type": "markdown",
   "id": "509a3d17",
   "metadata": {},
   "source": [
    "Common usage"
   ]
  },
  {
   "cell_type": "markdown",
   "id": "5026dc2c",
   "metadata": {},
   "source": [
    "1. Set same value for all blocks in UniTensor with Symmetry"
   ]
  },
  {
   "cell_type": "code",
   "execution_count": null,
   "id": "6b85bd9c",
   "metadata": {},
   "outputs": [],
   "source": [
    "bond_d = cytnx.Bond(cytnx.BD_IN, [cytnx.Qs(1)>>1, cytnx.Qs(-1)>>1],[cytnx.Symmetry.U1()])\n",
    "\n",
    "bond_e = cytnx.Bond(cytnx.BD_IN, [cytnx.Qs(1)>>1, cytnx.Qs(-1)>>1],[cytnx.Symmetry.U1()])\n",
    "\n",
    "bond_f = cytnx.Bond(cytnx.BD_OUT,\\\n",
    "\n",
    "                    [cytnx.Qs(2)>>1, cytnx.Qs(0)>>2, cytnx.Qs(-2)>>1],[cytnx.Symmetry.U1()])\n",
    "\n",
    "Tsymm = cytnx.UniTensor([bond_d, bond_e, bond_f], name=\"symm. tensor\").relabels_([\"d\",\"e\",\"f\"])\n",
    "\n",
    "\n",
    "for block in Tsymm.get_blocks_():\n",
    "\n",
    "    block.fill(1.0)"
   ]
  },
  {
   "cell_type": "markdown",
   "id": "9f8c689b",
   "metadata": {},
   "source": [
    "2. Check current Blas/Lapack integer size"
   ]
  },
  {
   "cell_type": "code",
   "execution_count": null,
   "id": "dcfcd3b5",
   "metadata": {},
   "outputs": [],
   "source": [
    "print(cytnx.__blasINTsize__)"
   ]
  },
  {
   "cell_type": "markdown",
   "id": "e7314542",
   "metadata": {},
   "source": [
    "Performance tuning"
   ]
  },
  {
   "cell_type": "markdown",
   "id": "d8b8be7d",
   "metadata": {},
   "source": [
    "Tensordot with input cache"
   ]
  },
  {
   "cell_type": "code",
   "execution_count": null,
   "id": "ba503ac4",
   "metadata": {},
   "outputs": [],
   "source": [
    "import cytnx as cy\n",
    "\n",
    "A = cy.arange(24).reshape(2,2,2,3)\n",
    "\n",
    "B = A + 4\n",
    "\n",
    "\n",
    "for i in range(20):\n",
    "\n",
    "    C = cy.linalg.Tensordot(A,B,[0,2],[1,0])"
   ]
  },
  {
   "cell_type": "code",
   "execution_count": null,
   "id": "080130f1",
   "metadata": {},
   "outputs": [],
   "source": [
    "import cytnx as cy\n",
    "\n",
    "A = cy.arange(24).reshape(2,2,2,3)\n",
    "\n",
    "B = A + 4\n",
    "\n",
    "\n",
    "for i in range(20):\n",
    "\n",
    "    C = cy.linalg.Tensordot(A,B,[0,2],[1,0],cacheL=True,cacheR=True)"
   ]
  },
  {
   "cell_type": "markdown",
   "id": "aef1d49d",
   "metadata": {},
   "source": [
    "Access single element of Tensor in C++"
   ]
  }
 ],
 "metadata": {
  "kernelspec": {
   "display_name": "Python 3 (ipykernel)",
   "language": "python",
   "name": "python3"
  },
  "language_info": {
   "codemirror_mode": {
    "name": "ipython",
    "version": 3
   },
   "file_extension": ".py",
   "mimetype": "text/x-python",
   "name": "python",
   "nbconvert_exporter": "python",
   "pygments_lexer": "ipython3",
   "version": "3.9.16"
  }
 },
 "nbformat": 4,
 "nbformat_minor": 5
}
