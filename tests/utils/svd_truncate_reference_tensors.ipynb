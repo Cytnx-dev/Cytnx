{
 "cells": [
  {
   "cell_type": "code",
   "execution_count": null,
   "id": "928f8c08",
   "metadata": {},
   "outputs": [],
   "source": [
    "import cytnx\n",
    "# import numpy\n",
    "src_file_dir = \"../test_data_base/common/\""
   ]
  },
  {
   "cell_type": "code",
   "execution_count": null,
   "id": "20c0fea0",
   "metadata": {},
   "outputs": [],
   "source": [
    "#create random matrix with exponential decaying singular values; U1 version, F64\n",
    "symms = [cytnx.Symmetry.U1()];\n",
    "bond_a = cytnx.Bond(cytnx.BD_IN, [cytnx.Qs(0)>>3, cytnx.Qs(1)>>2, cytnx.Qs(-1)>>1], symms)\n",
    "bond_b = cytnx.Bond(cytnx.BD_OUT, [cytnx.Qs(0)>>2, cytnx.Qs(2)>>1, cytnx.Qs(-1)>>2], symms)\n",
    "bond_c = cytnx.Bond(cytnx.BD_IN, [cytnx.Qs(0)>>1, cytnx.Qs(1)>>1, cytnx.Qs(-1)>>1], symms)\n",
    "bond_d = cytnx.Bond(cytnx.BD_OUT, [cytnx.Qs(2)>>2, cytnx.Qs(1)>>1, cytnx.Qs(-1)>>1, cytnx.Qs(0)>>2], symms)\n",
    "Torigin = cytnx.UniTensor([bond_a, bond_b, bond_c, bond_d],dtype=cytnx.Type.Double,\n",
    "                        name=\"U1 UniTensor (random)\",\n",
    "                        labels=[\"a\",\"b\",\"c\",\"d\"])\n",
    "Torigin.normal_(0.2, 1., 1000)\n",
    "[S, Uex, vTex] = cytnx.linalg.Gesvd(Torigin, True, True);\n",
    "singvals=min(S.shape())\n",
    "# randperm = numpy.random.permutation(singvals) # random permutation, such that the singular values are not ordered\n",
    "randperm = [11, 13, 12,  0, 14,  9,  7,  4, 10,  8,  5,  6,  3,  2, 15, 1]\n",
    "for k in range(singvals):\n",
    "  expon = -16*k/singvals\n",
    "  S[randperm[k],randperm[k]] = pow(10,expon)\n",
    "Texp=cytnx.Contract(Uex, S)\n",
    "Texp=cytnx.Contract(Texp, vTex)\n",
    "Texp.set_name(\"U(1) UniTensor with exponentially falling singular values in the range 1 to 10^-16\")\n",
    "Texp.Save(src_file_dir + \"sym_UT_U1_exp_Svals_F64\")"
   ]
  },
  {
   "cell_type": "code",
   "execution_count": null,
   "id": "bd459b3f",
   "metadata": {},
   "outputs": [],
   "source": [
    "#calculate truncated singular values and reconstructed matrix for truncated SVD; F64 version\n",
    "src_file_name = \"sym_UT_U1_exp_Svals_F64\"\n",
    "res_file_dir = \"../test_data_base/linalg/Svd_truncate/\"\n",
    "src_T = cytnx.UniTensor.Load(src_file_dir + src_file_name + \".cytnx\");\n",
    "keepdim = 5\n",
    "[Sref, Uref, vTref] = cytnx.linalg.Gesvd_truncate(src_T,keepdim);\n",
    "Mref = cytnx.Contract(Uref, Sref)\n",
    "Mref = cytnx.Contract(Mref, vTref)\n",
    "Mref.make_contiguous()\n",
    "Sref.Save(res_file_dir + src_file_name)\n",
    "Mref.Save(res_file_dir + src_file_name + \"_reconstructed\")"
   ]
  },
  {
   "cell_type": "code",
   "execution_count": null,
   "id": "719098b3",
   "metadata": {},
   "outputs": [
    {
     "name": "stdout",
     "output_type": "stream",
     "text": [
      "-----------------------\n",
      "tensor Name : \n",
      "tensor Rank : 4\n",
      "contiguous  : True\n",
      "valid blocks: 19\n",
      "is diag     : False\n",
      "on device   : cytnx device: CPU\n",
      "      row           col \n",
      "         -----------    \n",
      "         |         |    \n",
      "   a  -->| 6     3 |<--* c\n",
      "         |         |    \n",
      "   b *<--| 5     6 |-->  d\n",
      "         |         |    \n",
      "         -----------    \n",
      "\n"
     ]
    }
   ],
   "source": [
    "#calculate truncated singular values and reconstructed matrix for truncated SVD with minblockdim set; F64 version\n",
    "src_file_name = \"sym_UT_U1_exp_Svals_F64\"\n",
    "res_file_dir = \"../test_data_base/linalg/Svd_truncate/\"\n",
    "src_T = cytnx.UniTensor.Load(src_file_dir + src_file_name + \".cytnx\");\n",
    "keepdim = 5\n",
    "[Sref, Uref, vTref] = cytnx.linalg.Gesvd_truncate(src_T,keepdim=keepdim,min_blockdim=[1, 1, 0, 2, 0]);\n",
    "Mref = cytnx.Contract(Uref, Sref)\n",
    "Mref = cytnx.Contract(Mref, vTref)\n",
    "Mref.make_contiguous();\n",
    "Sref.Save(res_file_dir + src_file_name + \"_minblockdim\")\n",
    "Mref.Save(res_file_dir + src_file_name + \"_minblockdim_reconstructed\")"
   ]
  },
  {
   "cell_type": "code",
   "execution_count": null,
   "id": "70d68875",
   "metadata": {},
   "outputs": [],
   "source": [
    "#create random matrix with exponential decaying singular values; U1 version, C128\n",
    "symms = [cytnx.Symmetry.U1()];\n",
    "bond_a = cytnx.Bond(cytnx.BD_IN, [cytnx.Qs(0)>>3, cytnx.Qs(1)>>2, cytnx.Qs(-1)>>1], symms)\n",
    "bond_b = cytnx.Bond(cytnx.BD_OUT, [cytnx.Qs(0)>>2, cytnx.Qs(2)>>1, cytnx.Qs(-1)>>2], symms)\n",
    "bond_c = cytnx.Bond(cytnx.BD_IN, [cytnx.Qs(0)>>1, cytnx.Qs(1)>>1, cytnx.Qs(-1)>>1], symms)\n",
    "bond_d = cytnx.Bond(cytnx.BD_OUT, [cytnx.Qs(2)>>2, cytnx.Qs(1)>>1, cytnx.Qs(-1)>>1, cytnx.Qs(0)>>2], symms)\n",
    "Torigin = cytnx.UniTensor([bond_a, bond_b, bond_c, bond_d],dtype=cytnx.Type.ComplexDouble,\n",
    "                        name=\"U1 UniTensor (random)\",\n",
    "                        labels=[\"a\",\"b\",\"c\",\"d\"])\n",
    "Torigin.normal_(0.2, 1., 1000)\n",
    "[S, Uex, vTex] = cytnx.linalg.Gesvd(Torigin, True, True);\n",
    "singvals=min(S.shape())\n",
    "# randperm = numpy.random.permutation(singvals) # random permutation, such that the singular values are not ordered\n",
    "randperm = [11, 13, 12,  0, 14,  9,  7,  4, 10,  8,  5,  6,  3,  2, 15, 1]\n",
    "for k in range(singvals):\n",
    "  expon = -16*k/singvals\n",
    "  S[randperm[k],randperm[k]] = pow(10,expon)\n",
    "Texp=cytnx.Contract(Uex, S)\n",
    "Texp=cytnx.Contract(Texp, vTex)\n",
    "Texp.set_name(\"U(1) UniTensor with exponentially falling singular values in the range 1 to 10^-16\")\n",
    "Texp.Save(src_file_dir + \"sym_UT_U1_exp_Svals_C128\")"
   ]
  },
  {
   "cell_type": "code",
   "execution_count": null,
   "id": "5433e8d8",
   "metadata": {},
   "outputs": [],
   "source": [
    "#calculate truncated singular values and reconstructed matrix for truncated SVD; C128 version\n",
    "src_file_name = \"sym_UT_U1_exp_Svals_C128\"\n",
    "res_file_dir = \"../test_data_base/linalg/Svd_truncate/\"\n",
    "src_T = cytnx.UniTensor.Load(src_file_dir + src_file_name + \".cytnx\");\n",
    "keepdim = 5\n",
    "[Sref, Uref, vTref] = cytnx.linalg.Gesvd_truncate(src_T,keepdim);\n",
    "Mref = cytnx.Contract(Uref, Sref)\n",
    "Mref = cytnx.Contract(Mref, vTref)\n",
    "Mref.make_contiguous()\n",
    "Sref.Save(res_file_dir + src_file_name)\n",
    "Mref.Save(res_file_dir + src_file_name + \"_reconstructed\")"
   ]
  },
  {
   "cell_type": "code",
   "execution_count": null,
   "id": "2fa385d7",
   "metadata": {},
   "outputs": [],
   "source": [
    "#calculate truncated singular values and reconstructed matrix for truncated SVD with minblockdim set; C128 version\n",
    "src_file_name = \"sym_UT_U1_exp_Svals_C128\"\n",
    "res_file_dir = \"../test_data_base/linalg/Svd_truncate/\"\n",
    "src_T = cytnx.UniTensor.Load(src_file_dir + src_file_name + \".cytnx\");\n",
    "keepdim = 5\n",
    "[Sref, Uref, vTref] = cytnx.linalg.Gesvd_truncate(src_T,keepdim=keepdim,min_blockdim=[1, 1, 0, 2, 0]);\n",
    "Mref = cytnx.Contract(Uref, Sref)\n",
    "Mref = cytnx.Contract(Mref, vTref)\n",
    "Mref.make_contiguous();\n",
    "Sref.Save(res_file_dir + src_file_name + \"_minblockdim\")\n",
    "Mref.Save(res_file_dir + src_file_name + \"_minblockdim_reconstructed\")"
   ]
  }
 ],
 "metadata": {
  "kernelspec": {
   "display_name": "cytnx_dev",
   "language": "python",
   "name": "python3"
  },
  "language_info": {
   "codemirror_mode": {
    "name": "ipython",
    "version": 3
   },
   "file_extension": ".py",
   "mimetype": "text/x-python",
   "name": "python",
   "nbconvert_exporter": "python",
   "pygments_lexer": "ipython3",
   "version": "3.13.3"
  }
 },
 "nbformat": 4,
 "nbformat_minor": 5
}
