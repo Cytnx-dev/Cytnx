{
 "cells": [
  {
   "cell_type": "code",
   "execution_count": null,
   "id": "928f8c08",
   "metadata": {},
   "outputs": [],
   "source": [
    "import cytnx\n",
    "src_file_dir = \"../test_data_base/common/\""
   ]
  },
  {
   "cell_type": "code",
   "execution_count": null,
   "id": "5458ddc2",
   "metadata": {},
   "outputs": [],
   "source": [
    "#create random matrix with exponential decaying singular values; F64 version\n",
    "singvals=20;\n",
    "Torigin = cytnx.random.uniform([singvals,2*singvals], -1., 1., dtype=cytnx.Type.Float, seed=10000);\n",
    "[Sex, Uex, vTex] = cytnx.linalg.Gesvd(Torigin, True, True);\n",
    "Snew=cytnx.Tensor([Uex.shape()[1], vTex.shape()[0]]);\n",
    "for k in range(0,singvals):\n",
    "  expon = -16*k/singvals;\n",
    "  Snew[k,k] = pow(10,expon);\n",
    "Texp=cytnx.linalg.Matmul(Uex, Snew)\n",
    "Texp=cytnx.linalg.Matmul(Texp, vTex)\n",
    "uB = cytnx.UniTensor(Texp.reshape_(20, 4, 10), labels=[\"one\", 'two', 'three']).set_name(\"Dense UniTensor with exponentially falling singular values in the range 1 to 10^-16\")\n",
    "uB.Save(src_file_dir + \"dense_nondiag_exp_Svals_F64\")"
   ]
  },
  {
   "cell_type": "code",
   "execution_count": null,
   "id": "bd459b3f",
   "metadata": {},
   "outputs": [],
   "source": [
    "#calculate truncated singular values and reconstructed matrix for Rsvd_truncate; F64 version\n",
    "src_file_name = \"dense_nondiag_exp_Svals_F64\"\n",
    "res_file_dir = \"../test_data_base/linalg/Svd_truncate/\"\n",
    "src_T = cytnx.UniTensor.Load(src_file_dir + src_file_name + \".cytnx\");\n",
    "keepdim = 5\n",
    "[Sref, Uref, vTref] = cytnx.linalg.Gesvd_truncate(src_T,keepdim);\n",
    "Mref = cytnx.Contract(Uref, Sref)\n",
    "Mref = cytnx.Contract(Mref, vTref)\n",
    "Mref.make_contiguous()\n",
    "Sref.Save(res_file_dir + src_file_name)\n",
    "Mref.Save(res_file_dir + src_file_name + \"_reconstructed\")"
   ]
  },
  {
   "cell_type": "code",
   "execution_count": null,
   "id": "897b72e7",
   "metadata": {},
   "outputs": [],
   "source": [
    "#calculate truncated singular values for Rsvd; F64 version\n",
    "src_file_name = \"dense_nondiag_exp_Svals_F64\"\n",
    "res_file_dir = \"../test_data_base/linalg/Rsvd/\"\n",
    "src_T = cytnx.UniTensor.Load(src_file_dir + src_file_name + \".cytnx\");\n",
    "keepdim = 15\n",
    "[Sref, Uref, vTref] = cytnx.linalg.Gesvd_truncate(src_T,keepdim);\n",
    "Sref.Save(res_file_dir + src_file_name)"
   ]
  },
  {
   "cell_type": "code",
   "execution_count": null,
   "id": "8a9e4294",
   "metadata": {},
   "outputs": [],
   "source": [
    "#create random matrix with exponential decaying singular values; C128 version\n",
    "singvals=20;\n",
    "Torigin = cytnx.random.uniform([singvals,2*singvals], -1., 1., dtype=cytnx.Type.ComplexDouble, seed=10000);\n",
    "[Sex, Uex, vTex] = cytnx.linalg.Gesvd(Torigin, True, True);\n",
    "Snew=cytnx.Tensor([Uex.shape()[1], vTex.shape()[0]]);\n",
    "for k in range(0,singvals):\n",
    "  expon = -16*k/singvals;\n",
    "  Snew[k,k] = pow(10,expon);\n",
    "Texp=cytnx.linalg.Matmul(Uex, Snew)\n",
    "Texp=cytnx.linalg.Matmul(Texp, vTex)\n",
    "uB = cytnx.UniTensor(Texp.reshape_(20, 4, 10), labels=[\"one\", 'two', 'three']).set_name(\"Dense UniTensor with exponentially falling singular values in the range 1 to 10^-16\")\n",
    "uB.Save(src_file_dir + \"dense_nondiag_exp_Svals_C128\")"
   ]
  },
  {
   "cell_type": "code",
   "execution_count": null,
   "id": "6aa184d1",
   "metadata": {},
   "outputs": [],
   "source": [
    "#calculate truncated singular values and reconstructed matrix after truncated SVD; C128 version\n",
    "src_file_name = \"dense_nondiag_exp_Svals_C128\"\n",
    "res_file_dir = \"../test_data_base/linalg/Svd_truncate/\"\n",
    "src_T = cytnx.UniTensor.Load(src_file_dir + src_file_name + \".cytnx\");\n",
    "keepdim = 5\n",
    "[Sref, Uref, vTref] = cytnx.linalg.Gesvd_truncate(src_T,keepdim);\n",
    "Mref = cytnx.Contract(Uref, Sref)\n",
    "Mref = cytnx.Contract(Mref, vTref)\n",
    "Mref.make_contiguous()\n",
    "Sref.Save(res_file_dir + src_file_name)\n",
    "Mref.Save(res_file_dir + src_file_name + \"_reconstructed\")"
   ]
  },
  {
   "cell_type": "code",
   "execution_count": null,
   "id": "78881d50",
   "metadata": {},
   "outputs": [],
   "source": [
    "#calculate truncated singular values for Rsvd; C128 version\n",
    "src_file_name = \"dense_nondiag_exp_Svals_C128\"\n",
    "res_file_dir = \"../test_data_base/linalg/Rsvd/\"\n",
    "src_T = cytnx.UniTensor.Load(src_file_dir + src_file_name + \".cytnx\");\n",
    "keepdim = 15\n",
    "[Sref, Uref, vTref] = cytnx.linalg.Gesvd_truncate(src_T,keepdim);\n",
    "Sref.Save(res_file_dir + src_file_name)"
   ]
  }
 ],
 "metadata": {
  "kernelspec": {
   "display_name": "cytnx_dev",
   "language": "python",
   "name": "python3"
  },
  "language_info": {
   "codemirror_mode": {
    "name": "ipython",
    "version": 3
   },
   "file_extension": ".py",
   "mimetype": "text/x-python",
   "name": "python",
   "nbconvert_exporter": "python",
   "pygments_lexer": "ipython3",
   "version": "3.13.3"
  }
 },
 "nbformat": 4,
 "nbformat_minor": 5
}
